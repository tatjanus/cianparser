{
 "cells": [
  {
   "cell_type": "markdown",
   "metadata": {},
   "source": [
    "## Посмотрев на свой предыдущий ноутбук, я ощутила острое желание все переделать и реструктурировать. \n",
    "\n",
    "### Прошлая версия по сути была больше изготовлением кирпичиков, из которых сейчас уже я соберу полноценный парсер. Как функцию, а не последовательность ячеек.\n",
    "### Все необходимое я перенесла сюда, также добавила что-то новое.\n",
    "## В результате я хочу получить функцию cianParser(), которая возвращает DataFrame."
   ]
  },
  {
   "cell_type": "code",
   "execution_count": 1,
   "metadata": {
    "collapsed": true
   },
   "outputs": [],
   "source": [
    "import requests\n",
    "import re\n",
    "from bs4 import BeautifulSoup\n",
    "import pandas as pd\n",
    "import time\n",
    "import numpy as np"
   ]
  },
  {
   "cell_type": "code",
   "execution_count": 2,
   "metadata": {
    "collapsed": true
   },
   "outputs": [],
   "source": [
    "def html_stripper(text):\n",
    "    return re.sub('<[^<]+?>', '', str(text))"
   ]
  },
  {
   "cell_type": "markdown",
   "metadata": {},
   "source": [
    "#### Тут я соберу все ссылки на квартиры по каждому округу, запишу их в словарь links."
   ]
  },
  {
   "cell_type": "markdown",
   "metadata": {},
   "source": [
    "Я хочу хранить ссылки в словаре. Ключами будут округи, значениями - все найденные ссылки для округа. "
   ]
  },
  {
   "cell_type": "code",
   "execution_count": 6,
   "metadata": {
    "collapsed": true
   },
   "outputs": [],
   "source": [
    "links = dict([('NW' ,[np.nan]), ('C',[np.nan]), ('N',[np.nan]), ('NE',[np.nan]), ('E',[np.nan]), ('SE',[np.nan]), ('S',[np.nan]), ('SW',[np.nan]), ('W',[np.nan])])"
   ]
  },
  {
   "cell_type": "markdown",
   "metadata": {},
   "source": [
    "Cian предлагает для просмотра не более 30 страниц выдачи для каждого запроса. Всего у нас получится не более 30 страниц х 25 квартир на странице х 9 округов = 6750 объектов. Вроде нормально. Но практика показала, что если выбросить дубликаты, то останется около 900 объектов. С чем это может быть связано? Я заметила, что некоторые объявления фигурируют больше, чем в одном округе (я даже видела дом по Бирюлевской улице, отнесенный не только к своему, но и к Тверскому району ЦАО), какие-то объявления появляются в топе выдачи не только первой страницы запроса. Но причины тут не так важны, их наверняка побольше. Важно другое - мне захотелось в итоге иметь побольше датасет."
   ]
  },
  {
   "cell_type": "markdown",
   "metadata": {},
   "source": [
    "Тогда я решила сделать свои запросы чуть более подробными и пройтись не по 9 округам, а по всем районам (в каждом округе их довольно много, порядка 15-20). Итого получилось прохождение по результатам 120 поисковых запросов. "
   ]
  },
  {
   "cell_type": "code",
   "execution_count": 9,
   "metadata": {
    "collapsed": false
   },
   "outputs": [],
   "source": [
    "districts = {1: 'NW', 4: 'C', 5:'N', 6:'NE', 7:'E', 8:'SE', 9:'S', 10:'SW', 11:'W'}\n",
    "zone_bounds = {1: (125, 133), 4: (13, 23), 5: (23, 39), 6:(39, 56), 7:(56, 72), 8:(72, 84), 9:(84, 100), 10:(100, 112), 11:(112, 125)}\n",
    "\n",
    "for i in districts.keys():\n",
    "    left = zone_bounds[i][0]\n",
    "    right = zone_bounds[i][1]\n",
    "    \n",
    "    for j in range(left, right):\n",
    "        zone = 'http://www.cian.ru/cat.php?deal_type=sale&district%5B0%5D=' + str(j) + '&engine_version=2&offer_type=flat&room1=1&room2=1&room3=1&room4=1&room5=1&room6=1'     \n",
    "    \n",
    "        for page in range(1, 31):\n",
    "            page_url =  zone.format(page)\n",
    "\n",
    "            search_page = requests.get(page_url)\n",
    "            search_page = search_page.content\n",
    "            search_page = BeautifulSoup(search_page, 'lxml')\n",
    "\n",
    "            flat_urls = search_page.findAll('div', attrs = {'ng-class':\"{'serp-item_removed': offer.remove.state, 'serp-item_popup-opened': isPopupOpen}\"})\n",
    "            flat_urls = re.split('http://www.cian.ru/sale/flat/|/\" ng-class=\"', str(flat_urls))\n",
    "\n",
    "\n",
    "            for link in flat_urls:\n",
    "                if link.isdigit():\n",
    "                    links[districts.get(i)].append(link)"
   ]
  },
  {
   "cell_type": "markdown",
   "metadata": {},
   "source": [
    "### Здесь идет блок функций, наработанных и объясненных в прошлом ноутбуке. В этом я буду лишь указывать их предназначение."
   ]
  },
  {
   "cell_type": "markdown",
   "metadata": {},
   "source": [
    "#### Цена"
   ]
  },
  {
   "cell_type": "markdown",
   "metadata": {},
   "source": [
    "По сравнению с предыдущим ноутбуком тут появилась обработка ситуации цены в долларах, которая мне встретилась только на этот раз"
   ]
  },
  {
   "cell_type": "code",
   "execution_count": 111,
   "metadata": {
    "collapsed": true
   },
   "outputs": [],
   "source": [
    "def getPrice(flat_page):\n",
    "    price = flat_page.find('div', attrs={'class':'object_descr_price'})\n",
    "    price = re.split('<div>|руб|\\W', str(price))\n",
    "    price = \"\".join([i for i in price if i.isdigit()][-4:])\n",
    "\n",
    "    dollar = '808080'\n",
    "    if dollar in price:\n",
    "        price = price[6:]\n",
    "        \n",
    "    return int(price)"
   ]
  },
  {
   "cell_type": "markdown",
   "metadata": {},
   "source": [
    "#### Расстояние до центра города (вспомогательные: гаверсинус - расстояние между двумя точками на сфере, получение координат)"
   ]
  },
  {
   "cell_type": "code",
   "execution_count": 30,
   "metadata": {
    "collapsed": true
   },
   "outputs": [],
   "source": [
    "from math import radians, cos, sin, asin, sqrt\n",
    "AVG_EARTH_RADIUS = 6371\n",
    "\n",
    "def haversine(point1, point2):\n",
    "\n",
    "    # извлекаем долготу и широту\n",
    "    lat1, lng1 = point1\n",
    "    lat2, lng2 = point2\n",
    "\n",
    "    # переводим все эти значения в радианы\n",
    "    lat1, lng1, lat2, lng2 = map(radians, (lat1, lng1, lat2, lng2))\n",
    "\n",
    "    # вычисляем расстояние по формуле\n",
    "    lat = lat2 - lat1\n",
    "    lng = lng2 - lng1\n",
    "    d = sin(lat * 0.5) ** 2 + cos(lat1) * cos(lat2) * sin(lng * 0.5) ** 2\n",
    "    h = 2 * AVG_EARTH_RADIUS * asin(sqrt(d))\n",
    "\n",
    "    return h "
   ]
  },
  {
   "cell_type": "code",
   "execution_count": 31,
   "metadata": {
    "collapsed": true
   },
   "outputs": [],
   "source": [
    "def getCoords(flat_page):\n",
    "    coords = flat_page.find('div', attrs={'class':'map_info_button_extend'}).contents[1]\n",
    "    coords = re.split('&amp|center=|%2C', str(coords))\n",
    "    coords_list = []\n",
    "    for item in coords:\n",
    "        if item[0].isdigit():\n",
    "            coords_list.append(item)\n",
    "    lat = float(coords_list[0])\n",
    "    lon = float(coords_list[1])\n",
    "    return lat, lon"
   ]
  },
  {
   "cell_type": "code",
   "execution_count": 32,
   "metadata": {
    "collapsed": true
   },
   "outputs": [],
   "source": [
    "def getDistance(coords):\n",
    "    MSC_POINT_ZERO = (55.755831, 37.617673)\n",
    "    return haversine(MSC_POINT_ZERO, coords)"
   ]
  },
  {
   "cell_type": "markdown",
   "metadata": {},
   "source": [
    "#### Количество комнат"
   ]
  },
  {
   "cell_type": "markdown",
   "metadata": {},
   "source": [
    "Тут я сменила значение mult на 6, так как решила все же впоследствии многокомнатным квартирам присваивать это число в это поле."
   ]
  },
  {
   "cell_type": "code",
   "execution_count": 33,
   "metadata": {
    "collapsed": true
   },
   "outputs": [],
   "source": [
    "def getRoom(flat_page):\n",
    "    rooms_n = flat_page.find('div', attrs={'class':'object_descr_title'})\n",
    "    rooms_n = html_stripper(rooms_n)\n",
    "    room_number = ''\n",
    "    flag = 0\n",
    "    for i in re.split('-|\\n', rooms_n):\n",
    "        if 'много' in i:\n",
    "            flag = 1\n",
    "            break\n",
    "        elif 'комн' in i:\n",
    "            break\n",
    "        else:\n",
    "            room_number += i\n",
    "    \n",
    "    if (flag):\n",
    "        room_number = '6'\n",
    "    room_number = \"\".join(room_number.split())\n",
    "    return int(room_number)"
   ]
  },
  {
   "cell_type": "markdown",
   "metadata": {},
   "source": [
    "#### Расстояние до метро"
   ]
  },
  {
   "cell_type": "code",
   "execution_count": 34,
   "metadata": {
    "collapsed": true
   },
   "outputs": [],
   "source": [
    "def getMetroDistance(flat_page):\n",
    "    metro = flat_page.find('div', attrs={'class':'object_descr_metro'})\n",
    "    metro = re.split('metro_name|мин', str(metro))\n",
    "    if (len(metro) > 2):\n",
    "\n",
    "        metro_dist = 0\n",
    "        power = 0\n",
    "\n",
    "        flag = 0\n",
    "        for i in range(0, len(metro[1])):\n",
    "            if metro[1][-i-1].isdigit():\n",
    "                flag = 1\n",
    "                metro_dist += int(metro[1][-i-1]) * 10 ** power\n",
    "                power += 1\n",
    "            elif (flag == 1):\n",
    "                break\n",
    "    else:\n",
    "        metro_dist = np.nan\n",
    "\n",
    "    return metro_dist"
   ]
  },
  {
   "cell_type": "markdown",
   "metadata": {},
   "source": [
    "#### До метро пешком/на машине"
   ]
  },
  {
   "cell_type": "code",
   "execution_count": 35,
   "metadata": {
    "collapsed": true
   },
   "outputs": [],
   "source": [
    "def getMetroWalking(flat_page):\n",
    "    metro = flat_page.find('div', attrs={'class':'object_descr_metro'})\n",
    "    metro = re.split('metro_name|мин', str(metro))\n",
    "    if (len(metro) > 2):\n",
    "\n",
    "        if 'пешк' in metro[2]:\n",
    "            walking = 1\n",
    "        elif 'машин' in metro[2]:\n",
    "            walking = 0\n",
    "        else:\n",
    "            walking = np.nan\n",
    "            \n",
    "    else:\n",
    "        walking = np.nan\n",
    "\n",
    "    return walking"
   ]
  },
  {
   "cell_type": "markdown",
   "metadata": {},
   "source": [
    "#### Тип дома: материал, новостройка/вторичка"
   ]
  },
  {
   "cell_type": "code",
   "execution_count": 36,
   "metadata": {
    "collapsed": true
   },
   "outputs": [],
   "source": [
    "def getBrick(flat_page):\n",
    "    table = flat_page.find('table', attrs = {'class':'object_descr_props'})\n",
    "    table = html_stripper(table)\n",
    "    \n",
    "    brick = np.nan\n",
    "    \n",
    "    building_block = re.split('Этаж|Тип продажи', table)[1]\n",
    "    if 'Тип дом' in building_block:\n",
    "        if (('кирпич' in building_block) | ('монолит' in building_block)):\n",
    "            brick = 1\n",
    "        elif (('панельн' in building_block) | ('деревян' in building_block) | ('сталин' in building_block) | \n",
    "              ('блочн' in building_block)):\n",
    "            brick = 0\n",
    "\n",
    "            \n",
    "    return brick"
   ]
  },
  {
   "cell_type": "code",
   "execution_count": 37,
   "metadata": {
    "collapsed": true
   },
   "outputs": [],
   "source": [
    "def getNew(flat_page):\n",
    "    table = flat_page.find('table', attrs = {'class':'object_descr_props'})\n",
    "    table = html_stripper(table)\n",
    "    \n",
    "    new = np.nan\n",
    "    \n",
    "    building_block = re.split('Этаж|Тип продажи', table)[1]\n",
    "    if 'Тип дом' in building_block:\n",
    "        if 'новостр' in building_block:\n",
    "            new = 1\n",
    "        elif 'втор' in building_block:\n",
    "            new = 0\n",
    "\n",
    "            \n",
    "    return new"
   ]
  },
  {
   "cell_type": "markdown",
   "metadata": {},
   "source": [
    "#### Этаж, этажность"
   ]
  },
  {
   "cell_type": "code",
   "execution_count": 38,
   "metadata": {
    "collapsed": true
   },
   "outputs": [],
   "source": [
    "def getFloor(flat_page):\n",
    "    table = flat_page.find('table', attrs = {'class':'object_descr_props'})\n",
    "    table = html_stripper(table)\n",
    "    \n",
    "    floor_is = 0\n",
    "    \n",
    "    building_block = re.split('Этаж|Тип продажи', table)[1]\n",
    "    floor_block = re.split('\\xa0/\\xa0|\\n|\\xa0', building_block)\n",
    "    \n",
    "    for i in range(1, len(floor_block[2]) + 1):\n",
    "        if(floor_block[2][-i].isdigit()):\n",
    "            floor_is += int(floor_block[2][-i]) * 10**(i - 1)\n",
    "            \n",
    "    return floor_is"
   ]
  },
  {
   "cell_type": "code",
   "execution_count": 39,
   "metadata": {
    "collapsed": true
   },
   "outputs": [],
   "source": [
    "def getNFloor(flat_page):\n",
    "    table = flat_page.find('table', attrs = {'class':'object_descr_props'})\n",
    "    table = html_stripper(table)\n",
    "    \n",
    "    floors_count = np.nan\n",
    "    \n",
    "    building_block = re.split('Этаж|Тип продажи', table)[1]\n",
    "    floor_block = re.split('\\xa0/\\xa0|\\n|\\xa0', building_block)\n",
    "    \n",
    "    if floor_block[3].isdigit():\n",
    "        floors_count = int(floor_block[3])\n",
    "            \n",
    "    return floors_count"
   ]
  },
  {
   "cell_type": "markdown",
   "metadata": {},
   "source": [
    "#### Общая площадь, жилая, площадь кухни (+ вспомогательный конвертор strToFloat() для чисел, для которых cian (в отличие от python) использует в качестве разделителя запятую, а не точку)"
   ]
  },
  {
   "cell_type": "markdown",
   "metadata": {},
   "source": [
    "Немного подправила конвертор, который ошибался на данных, которых не бывает на Циане, но всё же"
   ]
  },
  {
   "cell_type": "code",
   "execution_count": 40,
   "metadata": {
    "collapsed": true
   },
   "outputs": [],
   "source": [
    "def myStrToFloat(string):\n",
    "    delimiter = 0\n",
    "    value = 0\n",
    "    for i in range(0, len(string)):\n",
    "        if string[i] == ',':\n",
    "            delimiter = i\n",
    "    for i in range(0, delimiter):\n",
    "        value += int(string[delimiter - i - 1]) * 10 ** i\n",
    "\n",
    "    for i in range(1, len(string) - delimiter):\n",
    "        value += (int(string[delimiter + i]) * (10 ** (-i)))\n",
    "    return value"
   ]
  },
  {
   "cell_type": "code",
   "execution_count": 41,
   "metadata": {
    "collapsed": true
   },
   "outputs": [],
   "source": [
    "def getTotsp(flat_page):\n",
    "    table = flat_page.find('table', attrs = {'class':'object_descr_props'})\n",
    "    table = html_stripper(table)\n",
    "    \n",
    "    space_block = re.split('Общая площадь', table)[1]\n",
    "   \n",
    "    total = re.split('Площадь комнат', space_block)[0]\n",
    "    total_space = re.split('\\n|\\xa0', total)[2]\n",
    "    if total_space.isdigit():\n",
    "        total_space = int(total_space)\n",
    "    else:\n",
    "        total_space = myStrToFloat(total_space)\n",
    "            \n",
    "    return total_space"
   ]
  },
  {
   "cell_type": "markdown",
   "metadata": {},
   "source": [
    "Добавила обработку ситуации с прочерком"
   ]
  },
  {
   "cell_type": "code",
   "execution_count": 42,
   "metadata": {
    "collapsed": true
   },
   "outputs": [],
   "source": [
    "def getLivesp(flat_page):\n",
    "    table = flat_page.find('table', attrs = {'class':'object_descr_props'})\n",
    "    table = html_stripper(table)\n",
    "    \n",
    "    space_block = re.split('Общая площадь', table)[1]\n",
    "   \n",
    "    living = re.split('Жилая площадь', space_block)[1]\n",
    "    living_space = re.split('\\n|\\xa0', living)[2]\n",
    "    if living_space.isdigit():\n",
    "        living_space = int(living_space)\n",
    "    elif (living_space == '–'):\n",
    "        living_space = np.nan\n",
    "    else:\n",
    "        living_space = myStrToFloat(living_space)\n",
    "\n",
    "    return living_space"
   ]
  },
  {
   "cell_type": "code",
   "execution_count": 43,
   "metadata": {
    "collapsed": true
   },
   "outputs": [],
   "source": [
    "def getKitsp(flat_page):\n",
    "    table = flat_page.find('table', attrs = {'class':'object_descr_props'})\n",
    "    table = html_stripper(table)\n",
    "    \n",
    "    space_block = re.split('Общая площадь', table)[1]\n",
    "    optional_block = re.split('Жилая площадь', space_block)[1]\n",
    "    \n",
    "    kitchen_space = np.nan\n",
    "    \n",
    "    if 'Площадь кухни' in optional_block:\n",
    "        kitchen_block = re.split('Площадь кухни', optional_block)[1]\n",
    "        if re.split('\\n|\\xa0', kitchen_block)[2] != '–':\n",
    "            if re.split('\\n|\\xa0', kitchen_block)[2].isdigit():\n",
    "                kitchen_space = int(re.split('\\n|\\xa0', kitchen_block)[2])\n",
    "            else:\n",
    "                kitchen_space = myStrToFloat(re.split('\\n|\\xa0', kitchen_block)[2])\n",
    "            \n",
    "    return kitchen_space"
   ]
  },
  {
   "cell_type": "markdown",
   "metadata": {},
   "source": [
    "#### Отсутствие балкона/их количество, наличие телефона"
   ]
  },
  {
   "cell_type": "code",
   "execution_count": 44,
   "metadata": {
    "collapsed": true
   },
   "outputs": [],
   "source": [
    "def getBal(flat_page):\n",
    "    table = flat_page.find('table', attrs = {'class':'object_descr_props'})\n",
    "    table = html_stripper(table)\n",
    "    \n",
    "    space_block = re.split('Общая площадь', table)[1]\n",
    "    optional_block = re.split('Жилая площадь', space_block)[1]\n",
    "    \n",
    "    balcony = np.nan\n",
    "    if 'Балкон' in optional_block:\n",
    "        balcony_block = re.split('Балкон', optional_block)[1]\n",
    "        if re.split('\\n', balcony_block)[1] != 'нет':\n",
    "            if re.split('\\n', balcony_block)[1] != '–':\n",
    "                balcony = int(re.split('\\n', balcony_block)[1][0])\n",
    "        else:\n",
    "            balcony = 0\n",
    "            \n",
    "    return balcony"
   ]
  },
  {
   "cell_type": "code",
   "execution_count": 45,
   "metadata": {
    "collapsed": true
   },
   "outputs": [],
   "source": [
    "def getTel(flat_page):\n",
    "    table = flat_page.find('table', attrs = {'class':'object_descr_props'})\n",
    "    table = html_stripper(table)\n",
    "    \n",
    "    space_block = re.split('Общая площадь', table)[1]\n",
    "    optional_block = re.split('Жилая площадь', space_block)[1]\n",
    "    \n",
    "    telephone = np.nan\n",
    "    if 'Телефон' in optional_block:\n",
    "        telephone_block = re.split('Телефон', optional_block)[1]\n",
    "        if re.split('\\n', telephone_block)[1] == 'да':\n",
    "            telephone = 1\n",
    "        elif re.split('\\n', telephone_block)[1] == 'нет':\n",
    "            telephone = 0\n",
    "            \n",
    "    return telephone"
   ]
  },
  {
   "cell_type": "markdown",
   "metadata": {},
   "source": [
    "## Теперь новые функции"
   ]
  },
  {
   "cell_type": "markdown",
   "metadata": {},
   "source": [
    "Эти выведены в отдельные исключительно для удобства при чтении бОльших, содержащих эти части кода функций"
   ]
  },
  {
   "cell_type": "code",
   "execution_count": 106,
   "metadata": {
    "collapsed": true
   },
   "outputs": [],
   "source": [
    "def getFlatPage(link):\n",
    "    \n",
    "    flat_url = 'http://www.cian.ru/sale/flat/' + str(link) + '/'\n",
    "    flat_page = requests.get(flat_url)\n",
    "    flat_page = flat_page.content\n",
    "    flat_page = BeautifulSoup(flat_page, 'lxml')\n",
    "    \n",
    "    return flat_page"
   ]
  },
  {
   "cell_type": "code",
   "execution_count": 47,
   "metadata": {
    "collapsed": true
   },
   "outputs": [],
   "source": [
    "def getFlatUrl(page):\n",
    "    page_url =  district.format(page)\n",
    "\n",
    "    search_page = requests.get(page_url)\n",
    "    search_page = search_page.content\n",
    "    search_page = BeautifulSoup(search_page, 'lxml')\n",
    "\n",
    "    flat_url = search_page.findAll('div', attrs = {'ng-class':\"{'serp-item_removed': offer.remove.state, 'serp-item_popup-opened': isPopupOpen}\"})\n",
    "    flat_url = re.split('http://www.cian.ru/sale/flat/|/\" ng-class=\"', str(flat_url))\n",
    "    \n",
    "    return flat_url"
   ]
  },
  {
   "cell_type": "markdown",
   "metadata": {},
   "source": [
    "getInfo() возвращает полную информацию по квартире, вызывая внутри себя вышеперечисленные функции для определения значений признаков"
   ]
  },
  {
   "cell_type": "code",
   "execution_count": 120,
   "metadata": {
    "collapsed": true
   },
   "outputs": [],
   "source": [
    "def getInfo(link):\n",
    "    \n",
    "    flat_page = getFlatPage(link)\n",
    "    \n",
    "\n",
    "    price = getPrice(flat_page)\n",
    "    coords = getCoords(flat_page)\n",
    "    distance = getDistance(coords)\n",
    "    rooms = getRoom(flat_page)\n",
    "    metrdist = getMetroDistance(flat_page)\n",
    "    metro_walking = getMetroWalking(flat_page)\n",
    "    brick = getBrick(flat_page)\n",
    "    new = getNew(flat_page)\n",
    "    floor = getFloor(flat_page)\n",
    "    nfloors = getNFloor(flat_page)\n",
    "    bal = getBal(flat_page)\n",
    "    kitsp = getKitsp(flat_page)\n",
    "    livesp = getLivesp(flat_page)\n",
    "    tel = getTel(flat_page)\n",
    "    totsp = getTotsp(flat_page)\n",
    "    walk = getMetroWalking(flat_page)\n",
    "    \n",
    "    \n",
    "    info = [bal, brick, distance, floor, kitsp, livesp, metrdist, new, nfloors, price, rooms, tel, totsp, walk]\n",
    "    \n",
    "    return info"
   ]
  },
  {
   "cell_type": "markdown",
   "metadata": {},
   "source": [
    "### Мне видится удобной схема из двух функций: парсер по округу и большой парсер. Большой парсер внутри себя вызывает парсер по округу для всех интересующих нас округов (их 9, я не рассматриваю Зеленоград, Новую Москву и т.д.)"
   ]
  },
  {
   "cell_type": "code",
   "execution_count": 121,
   "metadata": {
    "collapsed": true
   },
   "outputs": [],
   "source": [
    "def districtParser(links):\n",
    "\n",
    "    apartments = []\n",
    "\n",
    "    for link in links:\n",
    "\n",
    "        apartment = getInfo(link)\n",
    "        apartment.append(link)\n",
    "        apartments.append(apartment)\n",
    "        \n",
    "    \n",
    "    return apartments"
   ]
  },
  {
   "cell_type": "code",
   "execution_count": 122,
   "metadata": {
    "collapsed": false
   },
   "outputs": [
    {
     "data": {
      "text/plain": [
       "{1: 'NW', 4: 'C', 5: 'N', 6: 'NE', 7: 'E', 8: 'SE', 9: 'S', 10: 'SW', 11: 'W'}"
      ]
     },
     "execution_count": 122,
     "metadata": {},
     "output_type": "execute_result"
    }
   ],
   "source": [
    "districts"
   ]
  },
  {
   "cell_type": "code",
   "execution_count": 123,
   "metadata": {
    "collapsed": true
   },
   "outputs": [],
   "source": [
    "def cianParser(districts, links):\n",
    "    tmp = dict([(0 ,[np.nan]), (1,[np.nan]), (2,[np.nan]), (3,[np.nan]), (4,[np.nan]), (5,[np.nan]), (6,[np.nan]), (7,[np.nan]), (8,[np.nan]), (9,[np.nan]), (10,[np.nan]), (11,[np.nan]), ('Distr', [np.nan])])\n",
    "    data = pd.DataFrame(tmp)\n",
    "    \n",
    "    for i in districts.keys():\n",
    "        \n",
    "        district_name = districts.get(i)\n",
    "        tmp_links = links[links['Distr'] == district_name]\n",
    "        tmp_links = tmp_links['link']\n",
    "        data_tmp = pd.DataFrame(districtParser(tmp_links))\n",
    "        \n",
    "        data_tmp['Distr'] = district_name\n",
    "        data = data.append(data_tmp)\n",
    "        print('district', districts.get(i), 'is done!')\n",
    "        \n",
    "    return data"
   ]
  },
  {
   "cell_type": "markdown",
   "metadata": {},
   "source": [
    "### Схема готова. Теперь поработаем со ссылками"
   ]
  },
  {
   "cell_type": "markdown",
   "metadata": {},
   "source": [
    "Выше была вырезана часть, где я сохраняла собранные ссылки по округам в соответствующие csv. Теперь я подгружу оттуда данные."
   ]
  },
  {
   "cell_type": "code",
   "execution_count": 124,
   "metadata": {
    "collapsed": true
   },
   "outputs": [],
   "source": [
    "full_links = pd.read_csv('/Users/tatanakuzenko/lbNW.csv')"
   ]
  },
  {
   "cell_type": "code",
   "execution_count": 125,
   "metadata": {
    "collapsed": true
   },
   "outputs": [],
   "source": [
    "full_links['Distr'] = 'NW'"
   ]
  },
  {
   "cell_type": "code",
   "execution_count": 126,
   "metadata": {
    "collapsed": false
   },
   "outputs": [
    {
     "data": {
      "text/html": [
       "<div>\n",
       "<table border=\"1\" class=\"dataframe\">\n",
       "  <thead>\n",
       "    <tr style=\"text-align: right;\">\n",
       "      <th></th>\n",
       "      <th>0</th>\n",
       "      <th>Distr</th>\n",
       "    </tr>\n",
       "  </thead>\n",
       "  <tbody>\n",
       "    <tr>\n",
       "      <th>0</th>\n",
       "      <td>NaN</td>\n",
       "      <td>NW</td>\n",
       "    </tr>\n",
       "    <tr>\n",
       "      <th>1</th>\n",
       "      <td>152103519.0</td>\n",
       "      <td>NW</td>\n",
       "    </tr>\n",
       "    <tr>\n",
       "      <th>2</th>\n",
       "      <td>152104745.0</td>\n",
       "      <td>NW</td>\n",
       "    </tr>\n",
       "    <tr>\n",
       "      <th>3</th>\n",
       "      <td>152186332.0</td>\n",
       "      <td>NW</td>\n",
       "    </tr>\n",
       "    <tr>\n",
       "      <th>4</th>\n",
       "      <td>152103863.0</td>\n",
       "      <td>NW</td>\n",
       "    </tr>\n",
       "  </tbody>\n",
       "</table>\n",
       "</div>"
      ],
      "text/plain": [
       "             0 Distr\n",
       "0          NaN    NW\n",
       "1  152103519.0    NW\n",
       "2  152104745.0    NW\n",
       "3  152186332.0    NW\n",
       "4  152103863.0    NW"
      ]
     },
     "execution_count": 126,
     "metadata": {},
     "output_type": "execute_result"
    }
   ],
   "source": [
    "full_links.head()"
   ]
  },
  {
   "cell_type": "markdown",
   "metadata": {},
   "source": [
    "Проделаю это для всех остальных округов, соединю все вертикально, тк дальше буду удалять дубликаты."
   ]
  },
  {
   "cell_type": "code",
   "execution_count": 127,
   "metadata": {
    "collapsed": true
   },
   "outputs": [],
   "source": [
    "districts_cut = {4: 'C', 5:'N', 6:'NE', 7:'E', 8:'SE', 9:'S', 10:'SW', 11:'W'}"
   ]
  },
  {
   "cell_type": "code",
   "execution_count": 128,
   "metadata": {
    "collapsed": false
   },
   "outputs": [
    {
     "name": "stdout",
     "output_type": "stream",
     "text": [
      "(8401, 2)\n",
      "(13381, 2)\n",
      "(14281, 2)\n",
      "(13261, 2)\n",
      "(9991, 2)\n",
      "(13441, 2)\n",
      "(10081, 2)\n",
      "(10861, 2)\n"
     ]
    }
   ],
   "source": [
    "for i in districts_cut.values():\n",
    "    links_append = pd.read_csv('/Users/tatanakuzenko/lb' + i + '.csv')\n",
    "    \n",
    "    links_append['Distr'] = i\n",
    "    print(links_append.shape)\n",
    "    full_links = full_links.append(links_append)"
   ]
  },
  {
   "cell_type": "code",
   "execution_count": 129,
   "metadata": {
    "collapsed": false
   },
   "outputs": [
    {
     "data": {
      "text/plain": [
       "(100419, 2)"
      ]
     },
     "execution_count": 129,
     "metadata": {},
     "output_type": "execute_result"
    }
   ],
   "source": [
    "full_links.shape"
   ]
  },
  {
   "cell_type": "markdown",
   "metadata": {},
   "source": [
    "Nan был нулевым элементом для списка ссылок каждого округа. Удалим их (первая размерность должна стать на 9 меньше)"
   ]
  },
  {
   "cell_type": "code",
   "execution_count": 130,
   "metadata": {
    "collapsed": true
   },
   "outputs": [],
   "source": [
    "full_links = full_links.dropna()"
   ]
  },
  {
   "cell_type": "code",
   "execution_count": 131,
   "metadata": {
    "collapsed": false
   },
   "outputs": [
    {
     "data": {
      "text/plain": [
       "(100410, 2)"
      ]
     },
     "execution_count": 131,
     "metadata": {},
     "output_type": "execute_result"
    }
   ],
   "source": [
    "full_links.shape"
   ]
  },
  {
   "cell_type": "markdown",
   "metadata": {},
   "source": [
    "Теперь удалим дубликаты "
   ]
  },
  {
   "cell_type": "code",
   "execution_count": 132,
   "metadata": {
    "collapsed": true
   },
   "outputs": [],
   "source": [
    "full_links = full_links.drop_duplicates()"
   ]
  },
  {
   "cell_type": "code",
   "execution_count": 133,
   "metadata": {
    "collapsed": false
   },
   "outputs": [
    {
     "data": {
      "text/plain": [
       "(5241, 2)"
      ]
     },
     "execution_count": 133,
     "metadata": {},
     "output_type": "execute_result"
    }
   ],
   "source": [
    "full_links.shape"
   ]
  },
  {
   "cell_type": "markdown",
   "metadata": {},
   "source": [
    "#### Вот данных и поубавилось. Но нам хватит.\n",
    "Приведем в порядок ссылки: установим верные индексы, переименуем колонку из 0 в link и переведем значения этой колонки в int."
   ]
  },
  {
   "cell_type": "code",
   "execution_count": 136,
   "metadata": {
    "collapsed": true
   },
   "outputs": [],
   "source": [
    "full_links.index = [x for x in range(len(full_links.index))]\n",
    "full_links.rename(columns={'0' : 'link'}, inplace = True)\n",
    "full_links['link'] = full_links['link'].astype(np.int32)"
   ]
  },
  {
   "cell_type": "code",
   "execution_count": 139,
   "metadata": {
    "collapsed": false
   },
   "outputs": [
    {
     "data": {
      "text/html": [
       "<div>\n",
       "<table border=\"1\" class=\"dataframe\">\n",
       "  <thead>\n",
       "    <tr style=\"text-align: right;\">\n",
       "      <th></th>\n",
       "      <th>link</th>\n",
       "      <th>Distr</th>\n",
       "    </tr>\n",
       "  </thead>\n",
       "  <tbody>\n",
       "    <tr>\n",
       "      <th>0</th>\n",
       "      <td>152103519</td>\n",
       "      <td>NW</td>\n",
       "    </tr>\n",
       "    <tr>\n",
       "      <th>1</th>\n",
       "      <td>152104745</td>\n",
       "      <td>NW</td>\n",
       "    </tr>\n",
       "    <tr>\n",
       "      <th>2</th>\n",
       "      <td>152186332</td>\n",
       "      <td>NW</td>\n",
       "    </tr>\n",
       "    <tr>\n",
       "      <th>3</th>\n",
       "      <td>152103863</td>\n",
       "      <td>NW</td>\n",
       "    </tr>\n",
       "    <tr>\n",
       "      <th>4</th>\n",
       "      <td>152103560</td>\n",
       "      <td>NW</td>\n",
       "    </tr>\n",
       "  </tbody>\n",
       "</table>\n",
       "</div>"
      ],
      "text/plain": [
       "        link Distr\n",
       "0  152103519    NW\n",
       "1  152104745    NW\n",
       "2  152186332    NW\n",
       "3  152103863    NW\n",
       "4  152103560    NW"
      ]
     },
     "execution_count": 139,
     "metadata": {},
     "output_type": "execute_result"
    }
   ],
   "source": [
    "full_links.head()"
   ]
  },
  {
   "cell_type": "markdown",
   "metadata": {},
   "source": [
    "## Теперь можно запускать парсер"
   ]
  },
  {
   "cell_type": "code",
   "execution_count": 143,
   "metadata": {
    "collapsed": false
   },
   "outputs": [
    {
     "name": "stdout",
     "output_type": "stream",
     "text": [
      "district NW is done!\n",
      "district C is done!\n",
      "district N is done!\n",
      "district NE is done!\n",
      "district E is done!\n",
      "district SE is done!\n",
      "district S is done!\n",
      "district SW is done!\n",
      "district W is done!\n"
     ]
    }
   ],
   "source": [
    "data = cianParser(districts, full_links)"
   ]
  },
  {
   "cell_type": "code",
   "execution_count": 144,
   "metadata": {
    "collapsed": false
   },
   "outputs": [
    {
     "data": {
      "text/html": [
       "<div>\n",
       "<table border=\"1\" class=\"dataframe\">\n",
       "  <thead>\n",
       "    <tr style=\"text-align: right;\">\n",
       "      <th></th>\n",
       "      <th>0</th>\n",
       "      <th>1</th>\n",
       "      <th>2</th>\n",
       "      <th>3</th>\n",
       "      <th>4</th>\n",
       "      <th>5</th>\n",
       "      <th>6</th>\n",
       "      <th>7</th>\n",
       "      <th>8</th>\n",
       "      <th>9</th>\n",
       "      <th>10</th>\n",
       "      <th>11</th>\n",
       "      <th>Distr</th>\n",
       "      <th>12</th>\n",
       "      <th>13</th>\n",
       "      <th>14</th>\n",
       "    </tr>\n",
       "  </thead>\n",
       "  <tbody>\n",
       "    <tr>\n",
       "      <th>0</th>\n",
       "      <td>NaN</td>\n",
       "      <td>NaN</td>\n",
       "      <td>NaN</td>\n",
       "      <td>NaN</td>\n",
       "      <td>NaN</td>\n",
       "      <td>NaN</td>\n",
       "      <td>NaN</td>\n",
       "      <td>NaN</td>\n",
       "      <td>NaN</td>\n",
       "      <td>NaN</td>\n",
       "      <td>NaN</td>\n",
       "      <td>NaN</td>\n",
       "      <td>NaN</td>\n",
       "      <td>NaN</td>\n",
       "      <td>NaN</td>\n",
       "      <td>NaN</td>\n",
       "    </tr>\n",
       "    <tr>\n",
       "      <th>0</th>\n",
       "      <td>1.0</td>\n",
       "      <td>1.0</td>\n",
       "      <td>23.839112</td>\n",
       "      <td>2.0</td>\n",
       "      <td>NaN</td>\n",
       "      <td>0.0</td>\n",
       "      <td>20.0</td>\n",
       "      <td>1.0</td>\n",
       "      <td>15.0</td>\n",
       "      <td>3964118.0</td>\n",
       "      <td>2.0</td>\n",
       "      <td>NaN</td>\n",
       "      <td>NW</td>\n",
       "      <td>47.0</td>\n",
       "      <td>1.0</td>\n",
       "      <td>152103519.0</td>\n",
       "    </tr>\n",
       "    <tr>\n",
       "      <th>1</th>\n",
       "      <td>1.0</td>\n",
       "      <td>1.0</td>\n",
       "      <td>23.839112</td>\n",
       "      <td>2.0</td>\n",
       "      <td>NaN</td>\n",
       "      <td>0.0</td>\n",
       "      <td>20.0</td>\n",
       "      <td>1.0</td>\n",
       "      <td>15.0</td>\n",
       "      <td>2801360.0</td>\n",
       "      <td>1.0</td>\n",
       "      <td>NaN</td>\n",
       "      <td>NW</td>\n",
       "      <td>30.0</td>\n",
       "      <td>1.0</td>\n",
       "      <td>152104745.0</td>\n",
       "    </tr>\n",
       "    <tr>\n",
       "      <th>2</th>\n",
       "      <td>1.0</td>\n",
       "      <td>1.0</td>\n",
       "      <td>21.923458</td>\n",
       "      <td>5.0</td>\n",
       "      <td>12.0</td>\n",
       "      <td>47.0</td>\n",
       "      <td>15.0</td>\n",
       "      <td>0.0</td>\n",
       "      <td>8.0</td>\n",
       "      <td>13800000.0</td>\n",
       "      <td>3.0</td>\n",
       "      <td>NaN</td>\n",
       "      <td>NW</td>\n",
       "      <td>82.0</td>\n",
       "      <td>0.0</td>\n",
       "      <td>152186332.0</td>\n",
       "    </tr>\n",
       "    <tr>\n",
       "      <th>3</th>\n",
       "      <td>1.0</td>\n",
       "      <td>1.0</td>\n",
       "      <td>23.861184</td>\n",
       "      <td>6.0</td>\n",
       "      <td>NaN</td>\n",
       "      <td>0.0</td>\n",
       "      <td>20.0</td>\n",
       "      <td>1.0</td>\n",
       "      <td>12.0</td>\n",
       "      <td>3302559.0</td>\n",
       "      <td>1.0</td>\n",
       "      <td>NaN</td>\n",
       "      <td>NW</td>\n",
       "      <td>35.0</td>\n",
       "      <td>1.0</td>\n",
       "      <td>152103863.0</td>\n",
       "    </tr>\n",
       "  </tbody>\n",
       "</table>\n",
       "</div>"
      ],
      "text/plain": [
       "     0    1          2    3     4     5     6    7     8           9   10  11  \\\n",
       "0  NaN  NaN        NaN  NaN   NaN   NaN   NaN  NaN   NaN         NaN  NaN NaN   \n",
       "0  1.0  1.0  23.839112  2.0   NaN   0.0  20.0  1.0  15.0   3964118.0  2.0 NaN   \n",
       "1  1.0  1.0  23.839112  2.0   NaN   0.0  20.0  1.0  15.0   2801360.0  1.0 NaN   \n",
       "2  1.0  1.0  21.923458  5.0  12.0  47.0  15.0  0.0   8.0  13800000.0  3.0 NaN   \n",
       "3  1.0  1.0  23.861184  6.0   NaN   0.0  20.0  1.0  12.0   3302559.0  1.0 NaN   \n",
       "\n",
       "  Distr    12   13           14  \n",
       "0   NaN   NaN  NaN          NaN  \n",
       "0    NW  47.0  1.0  152103519.0  \n",
       "1    NW  30.0  1.0  152104745.0  \n",
       "2    NW  82.0  0.0  152186332.0  \n",
       "3    NW  35.0  1.0  152103863.0  "
      ]
     },
     "execution_count": 144,
     "metadata": {},
     "output_type": "execute_result"
    }
   ],
   "source": [
    "data.head()"
   ]
  },
  {
   "cell_type": "code",
   "execution_count": 145,
   "metadata": {
    "collapsed": false
   },
   "outputs": [
    {
     "data": {
      "text/plain": [
       "(5242, 16)"
      ]
     },
     "execution_count": 145,
     "metadata": {},
     "output_type": "execute_result"
    }
   ],
   "source": [
    "data.shape"
   ]
  },
  {
   "cell_type": "markdown",
   "metadata": {},
   "source": [
    "## Данные получены, сохраним их и приступим к очистке и визуализации."
   ]
  },
  {
   "cell_type": "code",
   "execution_count": 146,
   "metadata": {
    "collapsed": true
   },
   "outputs": [],
   "source": [
    "data.to_csv('cian_full_data.csv', index = False)"
   ]
  }
 ],
 "metadata": {
  "kernelspec": {
   "display_name": "Python 3",
   "language": "python",
   "name": "python3"
  },
  "language_info": {
   "codemirror_mode": {
    "name": "ipython",
    "version": 3
   },
   "file_extension": ".py",
   "mimetype": "text/x-python",
   "name": "python",
   "nbconvert_exporter": "python",
   "pygments_lexer": "ipython3",
   "version": "3.4.4"
  }
 },
 "nbformat": 4,
 "nbformat_minor": 0
}
