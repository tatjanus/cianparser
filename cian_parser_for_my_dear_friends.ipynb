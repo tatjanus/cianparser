{
 "cells": [
  {
   "cell_type": "code",
   "execution_count": 1,
   "metadata": {
    "collapsed": true
   },
   "outputs": [],
   "source": [
    "import requests\n",
    "import re\n",
    "from bs4 import BeautifulSoup\n",
    "import pandas as pd\n",
    "import time\n",
    "import numpy as np\n",
    "from datetime import datetime"
   ]
  },
  {
   "cell_type": "code",
   "execution_count": 2,
   "metadata": {
    "collapsed": true
   },
   "outputs": [],
   "source": [
    "def html_stripper(text):\n",
    "    return re.sub('<[^<]+?>', '', str(text))"
   ]
  },
  {
   "cell_type": "markdown",
   "metadata": {},
   "source": [
    "Тут можно задать параметры поиска."
   ]
  },
  {
   "cell_type": "code",
   "execution_count": 3,
   "metadata": {
    "collapsed": true
   },
   "outputs": [],
   "source": [
    "maxprice = 75000\n",
    "one = 0\n",
    "two = 0\n",
    "three = 1\n",
    "four = 1\n",
    "five = 1\n",
    "mult = 1"
   ]
  },
  {
   "cell_type": "code",
   "execution_count": 4,
   "metadata": {
    "collapsed": true
   },
   "outputs": [],
   "source": [
    "links = []"
   ]
  },
  {
   "cell_type": "markdown",
   "metadata": {},
   "source": [
    "### Парсинг ссылок (еcли нужна подкачка списка ссылок из файла, то можно использовать код ниже)."
   ]
  },
  {
   "cell_type": "markdown",
   "metadata": {},
   "source": [
    "Здесь мы пройдемся по всем районам (в каждом округе их порядка 10-15). Итого получилось прохождение по 130 поисковым запросам. По каждому запросу получаем выдачу, так как запросы подробные, то выдачи обычно 1-2 страницы, но я на всякий случай прохожусь по первым 5 (page in range(1, 6), можно заменить верхнее значение при желании). Это сказывается следующим образом: когда мы обращаемся по адресу с номером страницы, которая вне диапазона, то циан нас редиректит на первую страницу выдачи. То есть при таких параметрах мы жертвуем временем и много раз считываем одно и то же в страхе пропустить что-то важное. \n",
    "С каждой страницы мы собираем все ссылки. За повторения можно не беспокоиться - они будут в любом случае, так как люди могут указать несколько районов для своей квартиры, например, но ниже готовый пулл всех ссылок очищается от дубликатов."
   ]
  },
  {
   "cell_type": "code",
   "execution_count": 5,
   "metadata": {
    "collapsed": false
   },
   "outputs": [],
   "source": [
    "districts = {1: 'NW', 4: 'C', 5:'N', 6:'NE', 7:'E', 8:'SE', 9:'S', 10:'SW', 11:'W'}\n",
    "zone_bounds = {1: (125, 133), 4: (13, 23), 5: (23, 39), 6:(39, 56), 7:(56, 72), 8:(72, 84), 9:(84, 100), 10:(100, 112), 11:(112, 125)}\n",
    "\n",
    "for i in districts.keys():\n",
    "    left = zone_bounds[i][0]\n",
    "    right = zone_bounds[i][1]\n",
    "    \n",
    "    for j in range(left, right):\n",
    "        zone = 'https://www.cian.ru/cat.php?currency=2&deal_type=rent&district%5B0%5D=' + str(j) + '&engine_version=2&maxprice=' + str(maxprice) + '&offer_type=flat&p={}&room1=' + str(one) + '&room2=' + str(two) + '&room3=' + str(three) + '&room4=' + str(four) + '&room5=' + str(five) + '&room6='+ str(mult) + '&type=4'\n",
    "        for page in range(1, 6):\n",
    "            broken = False\n",
    "            if broken:\n",
    "                break\n",
    "            while True:\n",
    "                try:\n",
    "                    page_url =  zone.format(page)\n",
    "\n",
    "                    search_page = requests.get(page_url)\n",
    "                    search_page = search_page.content\n",
    "                    search_page = BeautifulSoup(search_page, 'lxml')\n",
    "\n",
    "                    flat_urls = search_page.findAll('div', attrs = {'ng-class':\"{'serp-item_removed': offer.remove.state, 'serp-item_popup-opened': isPopupOpen}\"})\n",
    "                    flat_urls = re.split('https://www.cian.ru/rent/flat/|/\" ng-class=\"', str(flat_urls))\n",
    "\n",
    "\n",
    "                    for link in flat_urls:\n",
    "                        if link.isdigit():\n",
    "                            #print(link)\n",
    "                            links.append(link)\n",
    "                    break\n",
    "                except KeyboardInterrupt:\n",
    "                    print('^C')\n",
    "                    broken = True\n",
    "                    break\n",
    "                except:\n",
    "                    print('bad connection')\n",
    "                    time.sleep(1)\n",
    "                    continue                    "
   ]
  },
  {
   "cell_type": "code",
   "execution_count": 6,
   "metadata": {
    "collapsed": false
   },
   "outputs": [
    {
     "data": {
      "text/plain": [
       "12122"
      ]
     },
     "execution_count": 6,
     "metadata": {},
     "output_type": "execute_result"
    }
   ],
   "source": [
    "len(links)"
   ]
  },
  {
   "cell_type": "code",
   "execution_count": 7,
   "metadata": {
    "collapsed": true
   },
   "outputs": [],
   "source": [
    "links = list(set(links))\n",
    "links = [int(i) for i in links]"
   ]
  },
  {
   "cell_type": "code",
   "execution_count": 8,
   "metadata": {
    "collapsed": false
   },
   "outputs": [
    {
     "data": {
      "text/plain": [
       "2518"
      ]
     },
     "execution_count": 8,
     "metadata": {},
     "output_type": "execute_result"
    }
   ],
   "source": [
    "len(links)"
   ]
  },
  {
   "cell_type": "markdown",
   "metadata": {},
   "source": [
    "Ну и сделаем бэкап ссылок"
   ]
  },
  {
   "cell_type": "code",
   "execution_count": 9,
   "metadata": {
    "collapsed": false
   },
   "outputs": [],
   "source": [
    "backup = links[:]\n",
    "backup = pd.DataFrame(backup)\n",
    "\n",
    "date = str(datetime.today())\n",
    "for i in date:\n",
    "    if date[i] == ' ':\n",
    "        date[i] = '_'\n",
    "\n",
    "backup.to_csv('backup_links_cian_rent_%s.csv' %date, index = False)"
   ]
  },
  {
   "cell_type": "markdown",
   "metadata": {},
   "source": [
    "### Это альтернативный вариант: подкачка списка ссылок из файла."
   ]
  },
  {
   "cell_type": "code",
   "execution_count": 10,
   "metadata": {
    "collapsed": true
   },
   "outputs": [],
   "source": [
    "#links = pd.read_csv('/home/tatiana/Study/backup_links_cian_rent_2017-01-19_02:02:42.283942.csv')\n",
    "#links = links['0']"
   ]
  },
  {
   "cell_type": "markdown",
   "metadata": {},
   "source": [
    "### Функции для сбора данных."
   ]
  },
  {
   "cell_type": "markdown",
   "metadata": {},
   "source": [
    "Будем собирать: цену, gps-координаты (дополнительно оставляю подсчет расстояния до центра города в километрах, но не включаю его в сам парсер, включить можно добавлением строк distance = getDistance(flat_page) info.append(distance) после всех остальных вызовов в тело функции getInfo(), а также строку 10: 'Distance' в переименование колонок), число комнат, общую площадь (оставлю также дополнительно площадь кухни, добавлять соответственно), площадь комнат + изолированность, метро, адрес."
   ]
  },
  {
   "cell_type": "code",
   "execution_count": 11,
   "metadata": {
    "collapsed": true
   },
   "outputs": [],
   "source": [
    "def getPrice(flat_page):\n",
    "    price = flat_page.find('div', attrs={'class':'object_descr_price'})\n",
    "    price = re.split('<div>|руб|\\W', str(price))\n",
    "    price = \"\".join([i for i in price if i.isdigit()][-4:])\n",
    "\n",
    "    dollar = '808080'\n",
    "    if dollar in price:\n",
    "        price = price[6:]\n",
    "        \n",
    "    return int(price)"
   ]
  },
  {
   "cell_type": "code",
   "execution_count": 12,
   "metadata": {
    "collapsed": true
   },
   "outputs": [],
   "source": [
    "def getCoords(flat_page):\n",
    "    coords = flat_page.find('div', attrs={'class':'map_info_button_extend'}).contents[1]\n",
    "    coords = re.split('&amp|center=|%2C', str(coords))\n",
    "    coords_list = []\n",
    "    for item in coords:\n",
    "        if item[0].isdigit():\n",
    "            coords_list.append(item)\n",
    "    lat = float(coords_list[0])\n",
    "    lon = float(coords_list[1])\n",
    "    return lat, lon"
   ]
  },
  {
   "cell_type": "code",
   "execution_count": 13,
   "metadata": {
    "collapsed": true
   },
   "outputs": [],
   "source": [
    "from math import radians, cos, sin, asin, sqrt\n",
    "AVG_EARTH_RADIUS = 6371\n",
    "\n",
    "def haversine(point1, point2):\n",
    "\n",
    "    # извлекаем долготу и широту\n",
    "    lat1, lng1 = point1\n",
    "    lat2, lng2 = point2\n",
    "\n",
    "    # переводим все эти значения в радианы\n",
    "    lat1, lng1, lat2, lng2 = map(radians, (lat1, lng1, lat2, lng2))\n",
    "\n",
    "    # вычисляем расстояние по формуле\n",
    "    lat = lat2 - lat1\n",
    "    lng = lng2 - lng1\n",
    "    d = sin(lat * 0.5) ** 2 + cos(lat1) * cos(lat2) * sin(lng * 0.5) ** 2\n",
    "    h = 2 * AVG_EARTH_RADIUS * asin(sqrt(d))\n",
    "\n",
    "    return h "
   ]
  },
  {
   "cell_type": "code",
   "execution_count": 14,
   "metadata": {
    "collapsed": true
   },
   "outputs": [],
   "source": [
    "def getDistance(coords):\n",
    "    MSC_POINT_ZERO = (55.755831, 37.617673)\n",
    "    return haversine(MSC_POINT_ZERO, coords)"
   ]
  },
  {
   "cell_type": "code",
   "execution_count": 15,
   "metadata": {
    "collapsed": true
   },
   "outputs": [],
   "source": [
    "def getRoom(flat_page):\n",
    "    rooms_n = flat_page.find('div', attrs={'class':'object_descr_title'})\n",
    "    rooms_n = html_stripper(rooms_n)\n",
    "    room_number = ''\n",
    "    flag = 0\n",
    "    for i in re.split('-|\\n', rooms_n):\n",
    "        if 'много' in i:\n",
    "            flag = 1\n",
    "            break\n",
    "        elif 'комн' in i:\n",
    "            break\n",
    "        else:\n",
    "            room_number += i\n",
    "    \n",
    "    if (flag):\n",
    "        room_number = '6'\n",
    "    room_number = \"\".join(room_number.split())\n",
    "    return int(room_number)"
   ]
  },
  {
   "cell_type": "code",
   "execution_count": 16,
   "metadata": {
    "collapsed": true
   },
   "outputs": [],
   "source": [
    "def getFloor(flat_page):\n",
    "    table = flat_page.find('table', attrs = {'class':'object_descr_props'})\n",
    "    table = html_stripper(table)\n",
    "    \n",
    "    floor_is = 0\n",
    "    \n",
    "    building_block = re.split('Этаж|Тип продажи', table)[1]\n",
    "    floor_block = re.split('\\xa0/\\xa0|\\n|\\xa0', building_block)\n",
    "    \n",
    "    for i in range(1, len(floor_block[2]) + 1):\n",
    "        if(floor_block[2][-i].isdigit()):\n",
    "            floor_is += int(floor_block[2][-i]) * 10**(i - 1)\n",
    "            \n",
    "    return floor_is"
   ]
  },
  {
   "cell_type": "code",
   "execution_count": 44,
   "metadata": {
    "collapsed": true
   },
   "outputs": [],
   "source": [
    "def myStrToFloat(string):\n",
    "    delimiter = 0\n",
    "    value = 0\n",
    "    for i in range(0, len(string)):\n",
    "        if string[i] == ',':\n",
    "            delimiter = i\n",
    "    if delimiter == 0:\n",
    "        return int(string)\n",
    "    for i in range(0, delimiter):\n",
    "        value += int(string[delimiter - i - 1]) * 10 ** i\n",
    "\n",
    "    for i in range(1, len(string) - delimiter):\n",
    "        value += (int(string[delimiter + i]) * (10 ** (-i)))\n",
    "    return value"
   ]
  },
  {
   "cell_type": "code",
   "execution_count": 18,
   "metadata": {
    "collapsed": true
   },
   "outputs": [],
   "source": [
    "def getTotsp(flat_page):\n",
    "    table = flat_page.find('table', attrs = {'class':'object_descr_props'})\n",
    "    table = html_stripper(table)\n",
    "    \n",
    "    space_block = re.split('Общая площадь', table)[1]\n",
    "   \n",
    "    total = re.split('Площадь комнат', space_block)[0]\n",
    "    total_space = re.split('\\n|\\xa0', total)[3]\n",
    "    if total_space.isdigit():\n",
    "        total_space = int(total_space)\n",
    "    else:\n",
    "        total_space = myStrToFloat(total_space)\n",
    "            \n",
    "    return total_space"
   ]
  },
  {
   "cell_type": "code",
   "execution_count": 19,
   "metadata": {
    "collapsed": true
   },
   "outputs": [],
   "source": [
    "def getKitsp(flat_page):\n",
    "    table = flat_page.find('table', attrs = {'class':'object_descr_props'})\n",
    "    table = html_stripper(table)\n",
    "    \n",
    "    space_block = re.split('Общая площадь', table)[1]\n",
    "    optional_block = re.split('Жилая площадь', space_block)[1]\n",
    "    \n",
    "    kitchen_space = np.nan\n",
    "    \n",
    "    if 'Площадь кухни' in optional_block:\n",
    "        kitchen_block = re.split('Площадь кухни', optional_block)[1]\n",
    "        if re.split('\\n|\\xa0', kitchen_block)[2] != '–':\n",
    "            if re.split('\\n|\\xa0', kitchen_block)[2].isdigit():\n",
    "                kitchen_space = int(re.split('\\n|\\xa0', kitchen_block)[2])\n",
    "            else:\n",
    "                kitchen_space = myStrToFloat(re.split('\\n|\\xa0', kitchen_block)[2])\n",
    "            \n",
    "    return kitchen_space"
   ]
  },
  {
   "cell_type": "code",
   "execution_count": 47,
   "metadata": {
    "collapsed": true
   },
   "outputs": [],
   "source": [
    "def getRoomsSp(flat_page):\n",
    "    isolated = True\n",
    "    \n",
    "    table = flat_page.find('table', attrs = {'class':'object_descr_props'})\n",
    "\n",
    "    table = re.sub('<[^<]?>', '', str(table))\n",
    "\n",
    "    space_block = re.split('Общая площадь', table)[1]\n",
    "    \n",
    "    rooms = re.split('Площадь комнат:', space_block)[1]\n",
    "    rooms = re.split('Жилая площадь', rooms)[0]\n",
    "    rooms = re.split('-->', rooms)[1][0]\n",
    "\n",
    "    if(rooms == '–'):\n",
    "        return np.nan, np.nan  \n",
    "    \n",
    "    rooms_space = re.split('all_rooms_area', table)[1]\n",
    "    rooms_space = re.split('\\xa0', rooms_space)[0]\n",
    "    rooms_space = rooms_space[3:]\n",
    "    \n",
    "    space = ''\n",
    "    spaces = []\n",
    "    finished = True\n",
    "    \n",
    "    for i in range(len(rooms_space)):\n",
    "        \n",
    "        if rooms_space[i] == ' ':\n",
    "            continue\n",
    "\n",
    "        elif (not(rooms_space[i].isdigit()) and not(finished)):\n",
    "            if rooms_space[i] == ',':\n",
    "                space += rooms_space[i]\n",
    "            else:\n",
    "                #print(space)\n",
    "                spaces.append(myStrToFloat(space))\n",
    "                space = ''\n",
    "                finished = True\n",
    "\n",
    "        elif (rooms_space[i].isdigit()):\n",
    "            finished = False\n",
    "            space += rooms_space[i]\n",
    "            \n",
    "        elif (not(rooms_space[i].isdigit()) and finished):\n",
    "            continue\n",
    "    \n",
    "    if not finished:\n",
    "        spaces.append(myStrToFloat(space))\n",
    "    \n",
    "    if '+' in rooms_space:\n",
    "        isolated = False\n",
    "        \n",
    "    return spaces, isolated"
   ]
  },
  {
   "cell_type": "code",
   "execution_count": 21,
   "metadata": {
    "collapsed": true
   },
   "outputs": [],
   "source": [
    "def getMetro(flat_page):\n",
    "    \n",
    "    if (flat_page.find('div', attrs={'class':'object_item_metro_name'}) == None):\n",
    "        metro_station = flat_page.find('div', attrs={'class':'object_descr_metro'})\n",
    "        metro_station = re.split('_blank\">|,</a>', str(metro_station))\n",
    "        stations = []\n",
    "        for i in range(len(metro_station)):\n",
    "            if (i % 2 != 0):\n",
    "                stations.append(metro_station[i])\n",
    "    else:\n",
    "        metro_station = flat_page.find('div', attrs={'class':'object_item_metro_name'})\n",
    "        stations = re.split('_blank\">|,</a>', str(metro_station))[1]\n",
    "    \n",
    "    return stations"
   ]
  },
  {
   "cell_type": "code",
   "execution_count": 22,
   "metadata": {
    "collapsed": true
   },
   "outputs": [],
   "source": [
    "def getAddress(flat_page):\n",
    "    address = flat_page.find('h1', attrs={'class':'object_descr_addr'})\n",
    "    address = re.split('<a href=', str(address))\n",
    "\n",
    "    if 'район' in address[2]:\n",
    "        if len(address) > 4:\n",
    "            street = address[3]\n",
    "            house = address[4]\n",
    "        else:\n",
    "            street = address[3]\n",
    "            house = ''\n",
    "    else:\n",
    "        street = address[2]\n",
    "        house = address[3]\n",
    "    \n",
    "    \n",
    "    if len(address) > 4:\n",
    "        street = re.split('_blank\">|</a>', str(street))[1]\n",
    "        house = re.split('_blank\">|</a>', str(house))[1]\n",
    "    else:\n",
    "        street = re.split('_blank\">|</a>', str(street))[1]\n",
    "    \n",
    "    return street + ' ' + house"
   ]
  },
  {
   "cell_type": "markdown",
   "metadata": {},
   "source": [
    "Эти выведены в отдельные исключительно для удобства при чтении бОльших, содержащих эти части кода, функций"
   ]
  },
  {
   "cell_type": "code",
   "execution_count": 23,
   "metadata": {
    "collapsed": true
   },
   "outputs": [],
   "source": [
    "def getFlatPage(link):\n",
    "    \n",
    "    flat_url = 'http://www.cian.ru/rent/flat/' + str(link) + '/'\n",
    "    flat_page = requests.get(flat_url)\n",
    "    flat_page = flat_page.content\n",
    "    flat_page = BeautifulSoup(flat_page, 'lxml')\n",
    "    \n",
    "    return flat_page"
   ]
  },
  {
   "cell_type": "code",
   "execution_count": 24,
   "metadata": {
    "collapsed": true
   },
   "outputs": [],
   "source": [
    "def getFlatUrl(page):\n",
    "    page_url =  district.format(page)\n",
    "\n",
    "    search_page = requests.get(page_url)\n",
    "    search_page = search_page.content\n",
    "    search_page = BeautifulSoup(search_page, 'lxml')\n",
    "\n",
    "    flat_url = search_page.findAll('div', attrs = {'ng-class':\"{'serp-item_removed': offer.remove.state, 'serp-item_popup-opened': isPopupOpen}\"})\n",
    "    flat_url = re.split('http://www.cian.ru/rent/flat/|/\" ng-class=\"', str(flat_url))\n",
    "    \n",
    "    return flat_url"
   ]
  },
  {
   "cell_type": "markdown",
   "metadata": {},
   "source": [
    "getInfo() возвращает полную информацию по квартире, вызывая внутри себя вышеперечисленные функции для определения значений признаков"
   ]
  },
  {
   "cell_type": "code",
   "execution_count": 25,
   "metadata": {
    "collapsed": true
   },
   "outputs": [],
   "source": [
    "def getInfo(link):\n",
    "    \n",
    "    #params = [getPrice, getCoords, getRoom, getFloor, getTotsp, getRoomsSp, getMetro, getAddress]\n",
    "    flat_page = getFlatPage(link)\n",
    "    info = []\n",
    "    \n",
    "    rooms_space, isolated = getRoomsSp(flat_page)\n",
    "    info.append(rooms_space)\n",
    "    info.append(isolated)\n",
    "    \n",
    "    price = getPrice(flat_page)\n",
    "    info.append(price)\n",
    "    \n",
    "    coords = getCoords(flat_page)\n",
    "    info.append(coords)\n",
    "    \n",
    "    rooms = getRoom(flat_page)\n",
    "    info.append(rooms)\n",
    "    \n",
    "    floor = getFloor(flat_page)\n",
    "    info.append(floor)\n",
    "    \n",
    "    totsp = getTotsp(flat_page)\n",
    "    info.append(totsp)\n",
    "    \n",
    "    metro = getMetro(flat_page)\n",
    "    info.append(metro)\n",
    "    \n",
    "    address = getAddress(flat_page)\n",
    "    info.append(address)\n",
    "    \n",
    "\n",
    "    info.append(link)\n",
    "    \n",
    "    return info"
   ]
  },
  {
   "cell_type": "markdown",
   "metadata": {},
   "source": [
    "### Фукция парсера."
   ]
  },
  {
   "cell_type": "code",
   "execution_count": 106,
   "metadata": {
    "collapsed": false
   },
   "outputs": [],
   "source": [
    "def cianParser(links, left, right, bunch_size):\n",
    "    if right <= left:\n",
    "        print('right border is expected to be greater than the left one. change values pls')\n",
    "        return \n",
    "    if right >= len(links):\n",
    "        print('right border is out of range')\n",
    "        return \n",
    "    N = 10\n",
    "    if (right - left) % bunch_size == 0:\n",
    "        bunch_count = (right - left) // bunch_size\n",
    "    else:\n",
    "        bunch_count = (right - left) // bunch_size + 1\n",
    "    apartments = []\n",
    "    broken = False\n",
    "    fails_count = 0\n",
    "    for i in range(left, right):\n",
    "        counter = 0\n",
    "        while True:\n",
    "            if counter >= N:\n",
    "                fails_count += 1\n",
    "                print('getInfo() fail (or bad connection status), flat will be missing in the dataset,',   \n",
    "                      'position:', i, 'link: https://cian.ru/rent/flat/' + str(links[i]))\n",
    "                break\n",
    "            \n",
    "            try:\n",
    "                apartments.append(getInfo(links[i]))\n",
    "                if (i + 1 - left) % bunch_size == 0:\n",
    "                    if (i + 1 - left) != 0:\n",
    "                        print((i + 1 - left) // bunch_size, 'bunch of', bunch_count, 'is done')\n",
    "                break\n",
    "            except KeyboardInterrupt:\n",
    "                print('interrupted on', i, 'row',) \n",
    "                print('^C')\n",
    "                broken = True\n",
    "                print('fails count is', fails_count)\n",
    "                return pd.DataFrame(apartments)\n",
    "                break\n",
    "            except:\n",
    "                counter += 1\n",
    "                time.sleep(1)\n",
    "                continue\n",
    "\n",
    "    if not ((i + 1 - left) % bunch_size == 0): \n",
    "        print(bunch_count, 'bunch of', bunch_count, 'is done')\n",
    "    print('fails count is', fails_count)    \n",
    "    return pd.DataFrame(apartments)"
   ]
  },
  {
   "cell_type": "markdown",
   "metadata": {},
   "source": [
    "## Запуск на полном списке ссылок."
   ]
  },
  {
   "cell_type": "code",
   "execution_count": 107,
   "metadata": {
    "collapsed": false
   },
   "outputs": [
    {
     "data": {
      "text/plain": [
       "2518"
      ]
     },
     "execution_count": 107,
     "metadata": {},
     "output_type": "execute_result"
    }
   ],
   "source": [
    "len(links)"
   ]
  },
  {
   "cell_type": "markdown",
   "metadata": {},
   "source": [
    "Можно изменить размер банча. Он влияет на вывод в процессе парсинга. Прервать процесс можно обычным kernel interrupt, выведется номер строки, на которой остановилась функция. После прерывания готовые данные для квартир до этой строки будут доступны в переменной data."
   ]
  },
  {
   "cell_type": "markdown",
   "metadata": {},
   "source": [
    "Могут возникать ошибки. Но парсер на них падать не должен, в случае проблем (плохого соединения или падения getInfo() на конкретной квартире) он попробует N = 10 раз, в случае неудачи выведет сообщение об ошибке и перейдет к следующей ссылке.\n",
    "Проверить, в чем была проблема для конкретной квартиры, можно кодом ниже."
   ]
  },
  {
   "cell_type": "markdown",
   "metadata": {},
   "source": [
    "Чтобы запустить на неполном списке, достаточно указать нужные границы подсета в качестве параметров функции cianParser."
   ]
  },
  {
   "cell_type": "code",
   "execution_count": 108,
   "metadata": {
    "collapsed": false,
    "scrolled": false
   },
   "outputs": [
    {
     "name": "stdout",
     "output_type": "stream",
     "text": [
      "started\n",
      "right border is out of range\n",
      "finished\n"
     ]
    }
   ],
   "source": [
    "bunch_size = 20\n",
    "\n",
    "print('started')\n",
    "data = cianParser(links, 0, len(links), bunch_size)\n",
    "print('finished')"
   ]
  },
  {
   "cell_type": "code",
   "execution_count": 49,
   "metadata": {
    "collapsed": false
   },
   "outputs": [
    {
     "data": {
      "text/html": [
       "<div>\n",
       "<table border=\"1\" class=\"dataframe\">\n",
       "  <thead>\n",
       "    <tr style=\"text-align: right;\">\n",
       "      <th></th>\n",
       "      <th>0</th>\n",
       "      <th>1</th>\n",
       "      <th>2</th>\n",
       "      <th>3</th>\n",
       "      <th>4</th>\n",
       "      <th>5</th>\n",
       "      <th>6</th>\n",
       "      <th>7</th>\n",
       "      <th>8</th>\n",
       "      <th>9</th>\n",
       "    </tr>\n",
       "  </thead>\n",
       "  <tbody>\n",
       "    <tr>\n",
       "      <th>0</th>\n",
       "      <td>[14, 14, 18]</td>\n",
       "      <td>True</td>\n",
       "      <td>50000</td>\n",
       "      <td>(55.638861, 37.349174)</td>\n",
       "      <td>3</td>\n",
       "      <td>17</td>\n",
       "      <td>80</td>\n",
       "      <td>[Румянцево]</td>\n",
       "      <td>ул. Шолохова 7</td>\n",
       "      <td>152501253</td>\n",
       "    </tr>\n",
       "    <tr>\n",
       "      <th>1</th>\n",
       "      <td>[20, 15, 14]</td>\n",
       "      <td>True</td>\n",
       "      <td>75000</td>\n",
       "      <td>(55.645893, 37.477022)</td>\n",
       "      <td>3</td>\n",
       "      <td>17</td>\n",
       "      <td>77</td>\n",
       "      <td>[Тропарево, Юго-Западная]</td>\n",
       "      <td>Ленинский просп. 127</td>\n",
       "      <td>152501046</td>\n",
       "    </tr>\n",
       "    <tr>\n",
       "      <th>2</th>\n",
       "      <td>[18, 14, 12]</td>\n",
       "      <td>True</td>\n",
       "      <td>45000</td>\n",
       "      <td>(55.871006, 37.562874)</td>\n",
       "      <td>3</td>\n",
       "      <td>11</td>\n",
       "      <td>68</td>\n",
       "      <td>[Петровско-Разумовская]</td>\n",
       "      <td>Дубнинская ул. 22К1</td>\n",
       "      <td>152756976</td>\n",
       "    </tr>\n",
       "    <tr>\n",
       "      <th>3</th>\n",
       "      <td>[20, 16, 12]</td>\n",
       "      <td>True</td>\n",
       "      <td>65000</td>\n",
       "      <td>(55.74226, 37.42465)</td>\n",
       "      <td>3</td>\n",
       "      <td>6</td>\n",
       "      <td>70</td>\n",
       "      <td>[Молодежная]</td>\n",
       "      <td>Рублевское ш. 99К4</td>\n",
       "      <td>149493753</td>\n",
       "    </tr>\n",
       "    <tr>\n",
       "      <th>4</th>\n",
       "      <td>[24, 12.5, 15.5]</td>\n",
       "      <td>True</td>\n",
       "      <td>50000</td>\n",
       "      <td>(55.68296, 37.848529)</td>\n",
       "      <td>3</td>\n",
       "      <td>6</td>\n",
       "      <td>78</td>\n",
       "      <td>[Жулебино]</td>\n",
       "      <td>Привольная ул. 65К3</td>\n",
       "      <td>151862388</td>\n",
       "    </tr>\n",
       "  </tbody>\n",
       "</table>\n",
       "</div>"
      ],
      "text/plain": [
       "                  0     1      2                       3  4   5   6  \\\n",
       "0      [14, 14, 18]  True  50000  (55.638861, 37.349174)  3  17  80   \n",
       "1      [20, 15, 14]  True  75000  (55.645893, 37.477022)  3  17  77   \n",
       "2      [18, 14, 12]  True  45000  (55.871006, 37.562874)  3  11  68   \n",
       "3      [20, 16, 12]  True  65000    (55.74226, 37.42465)  3   6  70   \n",
       "4  [24, 12.5, 15.5]  True  50000   (55.68296, 37.848529)  3   6  78   \n",
       "\n",
       "                           7                     8          9  \n",
       "0                [Румянцево]        ул. Шолохова 7  152501253  \n",
       "1  [Тропарево, Юго-Западная]  Ленинский просп. 127  152501046  \n",
       "2    [Петровско-Разумовская]   Дубнинская ул. 22К1  152756976  \n",
       "3               [Молодежная]    Рублевское ш. 99К4  149493753  \n",
       "4                 [Жулебино]   Привольная ул. 65К3  151862388  "
      ]
     },
     "execution_count": 49,
     "metadata": {},
     "output_type": "execute_result"
    }
   ],
   "source": [
    "data.head()"
   ]
  },
  {
   "cell_type": "markdown",
   "metadata": {},
   "source": [
    "Проверка квартиры"
   ]
  },
  {
   "cell_type": "code",
   "execution_count": 56,
   "metadata": {
    "collapsed": true
   },
   "outputs": [],
   "source": [
    "#необходимо присвоить fail_link интовое значение (обычно девятизначное) из вывода об ошибке\n",
    "#fail_link = \n",
    "#getInfo(fail_link)"
   ]
  },
  {
   "cell_type": "code",
   "execution_count": 50,
   "metadata": {
    "collapsed": false
   },
   "outputs": [
    {
     "data": {
      "text/plain": [
       "(27, 10)"
      ]
     },
     "execution_count": 50,
     "metadata": {},
     "output_type": "execute_result"
    }
   ],
   "source": [
    "data.shape"
   ]
  },
  {
   "cell_type": "code",
   "execution_count": 51,
   "metadata": {
    "collapsed": true
   },
   "outputs": [],
   "source": [
    "data.rename(columns={\n",
    "                              0: 'RoomsSp', \n",
    "                              1: 'Isolated', \n",
    "                              2: 'Price', \n",
    "                              3: 'GPS', \n",
    "                              4: 'RoomsNum', \n",
    "                              5: 'Floor', \n",
    "                              6: 'TotSp', \n",
    "                              7: 'Metro', \n",
    "                              8: 'Address', \n",
    "                              9: 'Link'\n",
    "        \n",
    "                         }, inplace = True)"
   ]
  },
  {
   "cell_type": "code",
   "execution_count": 52,
   "metadata": {
    "collapsed": false
   },
   "outputs": [
    {
     "data": {
      "text/html": [
       "<div>\n",
       "<table border=\"1\" class=\"dataframe\">\n",
       "  <thead>\n",
       "    <tr style=\"text-align: right;\">\n",
       "      <th></th>\n",
       "      <th>RoomsSp</th>\n",
       "      <th>Isolated</th>\n",
       "      <th>Price</th>\n",
       "      <th>GPS</th>\n",
       "      <th>RoomsNum</th>\n",
       "      <th>Floor</th>\n",
       "      <th>TotSp</th>\n",
       "      <th>Metro</th>\n",
       "      <th>Address</th>\n",
       "      <th>Link</th>\n",
       "    </tr>\n",
       "  </thead>\n",
       "  <tbody>\n",
       "    <tr>\n",
       "      <th>0</th>\n",
       "      <td>[14, 14, 18]</td>\n",
       "      <td>True</td>\n",
       "      <td>50000</td>\n",
       "      <td>(55.638861, 37.349174)</td>\n",
       "      <td>3</td>\n",
       "      <td>17</td>\n",
       "      <td>80</td>\n",
       "      <td>[Румянцево]</td>\n",
       "      <td>ул. Шолохова 7</td>\n",
       "      <td>152501253</td>\n",
       "    </tr>\n",
       "    <tr>\n",
       "      <th>1</th>\n",
       "      <td>[20, 15, 14]</td>\n",
       "      <td>True</td>\n",
       "      <td>75000</td>\n",
       "      <td>(55.645893, 37.477022)</td>\n",
       "      <td>3</td>\n",
       "      <td>17</td>\n",
       "      <td>77</td>\n",
       "      <td>[Тропарево, Юго-Западная]</td>\n",
       "      <td>Ленинский просп. 127</td>\n",
       "      <td>152501046</td>\n",
       "    </tr>\n",
       "    <tr>\n",
       "      <th>2</th>\n",
       "      <td>[18, 14, 12]</td>\n",
       "      <td>True</td>\n",
       "      <td>45000</td>\n",
       "      <td>(55.871006, 37.562874)</td>\n",
       "      <td>3</td>\n",
       "      <td>11</td>\n",
       "      <td>68</td>\n",
       "      <td>[Петровско-Разумовская]</td>\n",
       "      <td>Дубнинская ул. 22К1</td>\n",
       "      <td>152756976</td>\n",
       "    </tr>\n",
       "    <tr>\n",
       "      <th>3</th>\n",
       "      <td>[20, 16, 12]</td>\n",
       "      <td>True</td>\n",
       "      <td>65000</td>\n",
       "      <td>(55.74226, 37.42465)</td>\n",
       "      <td>3</td>\n",
       "      <td>6</td>\n",
       "      <td>70</td>\n",
       "      <td>[Молодежная]</td>\n",
       "      <td>Рублевское ш. 99К4</td>\n",
       "      <td>149493753</td>\n",
       "    </tr>\n",
       "    <tr>\n",
       "      <th>4</th>\n",
       "      <td>[24, 12.5, 15.5]</td>\n",
       "      <td>True</td>\n",
       "      <td>50000</td>\n",
       "      <td>(55.68296, 37.848529)</td>\n",
       "      <td>3</td>\n",
       "      <td>6</td>\n",
       "      <td>78</td>\n",
       "      <td>[Жулебино]</td>\n",
       "      <td>Привольная ул. 65К3</td>\n",
       "      <td>151862388</td>\n",
       "    </tr>\n",
       "  </tbody>\n",
       "</table>\n",
       "</div>"
      ],
      "text/plain": [
       "            RoomsSp Isolated  Price                     GPS  RoomsNum  Floor  \\\n",
       "0      [14, 14, 18]     True  50000  (55.638861, 37.349174)         3     17   \n",
       "1      [20, 15, 14]     True  75000  (55.645893, 37.477022)         3     17   \n",
       "2      [18, 14, 12]     True  45000  (55.871006, 37.562874)         3     11   \n",
       "3      [20, 16, 12]     True  65000    (55.74226, 37.42465)         3      6   \n",
       "4  [24, 12.5, 15.5]     True  50000   (55.68296, 37.848529)         3      6   \n",
       "\n",
       "   TotSp                      Metro               Address       Link  \n",
       "0     80                [Румянцево]        ул. Шолохова 7  152501253  \n",
       "1     77  [Тропарево, Юго-Западная]  Ленинский просп. 127  152501046  \n",
       "2     68    [Петровско-Разумовская]   Дубнинская ул. 22К1  152756976  \n",
       "3     70               [Молодежная]    Рублевское ш. 99К4  149493753  \n",
       "4     78                 [Жулебино]   Привольная ул. 65К3  151862388  "
      ]
     },
     "execution_count": 52,
     "metadata": {},
     "output_type": "execute_result"
    }
   ],
   "source": [
    "data.head()"
   ]
  },
  {
   "cell_type": "code",
   "execution_count": 112,
   "metadata": {
    "collapsed": true
   },
   "outputs": [],
   "source": [
    "date = str(datetime.today())\n",
    "for i in date:\n",
    "    if date[i] == ' ':\n",
    "        date[i] = '_'\n",
    "data.to_csv('cian_rent_%s.csv' %date, index = False)"
   ]
  }
 ],
 "metadata": {
  "anaconda-cloud": {},
  "kernelspec": {
   "display_name": "Python [default]",
   "language": "python",
   "name": "python3"
  },
  "language_info": {
   "codemirror_mode": {
    "name": "ipython",
    "version": 3
   },
   "file_extension": ".py",
   "mimetype": "text/x-python",
   "name": "python",
   "nbconvert_exporter": "python",
   "pygments_lexer": "ipython3",
   "version": "3.5.2"
  }
 },
 "nbformat": 4,
 "nbformat_minor": 0
}
