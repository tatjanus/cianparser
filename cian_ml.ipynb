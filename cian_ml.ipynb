{
 "cells": [
  {
   "cell_type": "code",
   "execution_count": 1,
   "metadata": {
    "collapsed": true
   },
   "outputs": [],
   "source": [
    "import numpy as np\n",
    "import pandas as pd\n",
    "from matplotlib import pyplot as plt\n",
    "plt.style.use('bmh')\n",
    "%matplotlib inline"
   ]
  },
  {
   "cell_type": "code",
   "execution_count": 2,
   "metadata": {
    "collapsed": true
   },
   "outputs": [],
   "source": [
    "import random\n",
    "random.seed(42)\n",
    "np.random.seed(42)"
   ]
  },
  {
   "cell_type": "code",
   "execution_count": 3,
   "metadata": {
    "collapsed": false
   },
   "outputs": [
    {
     "data": {
      "text/html": [
       "<div>\n",
       "<table border=\"1\" class=\"dataframe\">\n",
       "  <thead>\n",
       "    <tr style=\"text-align: right;\">\n",
       "      <th></th>\n",
       "      <th>Distance</th>\n",
       "      <th>Floor</th>\n",
       "      <th>Kitsp</th>\n",
       "      <th>Livsp</th>\n",
       "      <th>New</th>\n",
       "      <th>Nfloors</th>\n",
       "      <th>Price</th>\n",
       "      <th>Rooms</th>\n",
       "      <th>Totsp</th>\n",
       "      <th>Metrokm</th>\n",
       "      <th>...</th>\n",
       "      <th>Brick_na</th>\n",
       "      <th>Distr_C</th>\n",
       "      <th>Distr_E</th>\n",
       "      <th>Distr_N</th>\n",
       "      <th>Distr_NE</th>\n",
       "      <th>Distr_NW</th>\n",
       "      <th>Distr_S</th>\n",
       "      <th>Distr_SE</th>\n",
       "      <th>Distr_SW</th>\n",
       "      <th>Distr_W</th>\n",
       "    </tr>\n",
       "  </thead>\n",
       "  <tbody>\n",
       "    <tr>\n",
       "      <th>0</th>\n",
       "      <td>23.839112</td>\n",
       "      <td>2.0</td>\n",
       "      <td>8.917164</td>\n",
       "      <td>27.971880</td>\n",
       "      <td>1.0</td>\n",
       "      <td>15.0</td>\n",
       "      <td>3964118.0</td>\n",
       "      <td>2.0</td>\n",
       "      <td>47.0</td>\n",
       "      <td>1.333333</td>\n",
       "      <td>...</td>\n",
       "      <td>0</td>\n",
       "      <td>0</td>\n",
       "      <td>0</td>\n",
       "      <td>0</td>\n",
       "      <td>0</td>\n",
       "      <td>1</td>\n",
       "      <td>0</td>\n",
       "      <td>0</td>\n",
       "      <td>0</td>\n",
       "      <td>0</td>\n",
       "    </tr>\n",
       "    <tr>\n",
       "      <th>1</th>\n",
       "      <td>23.839112</td>\n",
       "      <td>2.0</td>\n",
       "      <td>7.242856</td>\n",
       "      <td>16.508310</td>\n",
       "      <td>1.0</td>\n",
       "      <td>15.0</td>\n",
       "      <td>2801360.0</td>\n",
       "      <td>1.0</td>\n",
       "      <td>30.0</td>\n",
       "      <td>1.333333</td>\n",
       "      <td>...</td>\n",
       "      <td>0</td>\n",
       "      <td>0</td>\n",
       "      <td>0</td>\n",
       "      <td>0</td>\n",
       "      <td>0</td>\n",
       "      <td>1</td>\n",
       "      <td>0</td>\n",
       "      <td>0</td>\n",
       "      <td>0</td>\n",
       "      <td>0</td>\n",
       "    </tr>\n",
       "    <tr>\n",
       "      <th>2</th>\n",
       "      <td>21.923458</td>\n",
       "      <td>5.0</td>\n",
       "      <td>12.000000</td>\n",
       "      <td>47.000000</td>\n",
       "      <td>0.0</td>\n",
       "      <td>8.0</td>\n",
       "      <td>13800000.0</td>\n",
       "      <td>3.0</td>\n",
       "      <td>82.0</td>\n",
       "      <td>12.500000</td>\n",
       "      <td>...</td>\n",
       "      <td>0</td>\n",
       "      <td>0</td>\n",
       "      <td>0</td>\n",
       "      <td>0</td>\n",
       "      <td>0</td>\n",
       "      <td>1</td>\n",
       "      <td>0</td>\n",
       "      <td>0</td>\n",
       "      <td>0</td>\n",
       "      <td>0</td>\n",
       "    </tr>\n",
       "    <tr>\n",
       "      <th>3</th>\n",
       "      <td>23.861184</td>\n",
       "      <td>6.0</td>\n",
       "      <td>7.735300</td>\n",
       "      <td>19.879948</td>\n",
       "      <td>1.0</td>\n",
       "      <td>12.0</td>\n",
       "      <td>3302559.0</td>\n",
       "      <td>1.0</td>\n",
       "      <td>35.0</td>\n",
       "      <td>1.333333</td>\n",
       "      <td>...</td>\n",
       "      <td>0</td>\n",
       "      <td>0</td>\n",
       "      <td>0</td>\n",
       "      <td>0</td>\n",
       "      <td>0</td>\n",
       "      <td>1</td>\n",
       "      <td>0</td>\n",
       "      <td>0</td>\n",
       "      <td>0</td>\n",
       "      <td>0</td>\n",
       "    </tr>\n",
       "    <tr>\n",
       "      <th>4</th>\n",
       "      <td>23.839112</td>\n",
       "      <td>10.0</td>\n",
       "      <td>7.636811</td>\n",
       "      <td>19.205621</td>\n",
       "      <td>1.0</td>\n",
       "      <td>15.0</td>\n",
       "      <td>3310465.0</td>\n",
       "      <td>1.0</td>\n",
       "      <td>34.0</td>\n",
       "      <td>1.333333</td>\n",
       "      <td>...</td>\n",
       "      <td>0</td>\n",
       "      <td>0</td>\n",
       "      <td>0</td>\n",
       "      <td>0</td>\n",
       "      <td>0</td>\n",
       "      <td>1</td>\n",
       "      <td>0</td>\n",
       "      <td>0</td>\n",
       "      <td>0</td>\n",
       "      <td>0</td>\n",
       "    </tr>\n",
       "  </tbody>\n",
       "</table>\n",
       "<p>5 rows × 28 columns</p>\n",
       "</div>"
      ],
      "text/plain": [
       "    Distance  Floor      Kitsp      Livsp  New  Nfloors       Price  Rooms  \\\n",
       "0  23.839112    2.0   8.917164  27.971880  1.0     15.0   3964118.0    2.0   \n",
       "1  23.839112    2.0   7.242856  16.508310  1.0     15.0   2801360.0    1.0   \n",
       "2  21.923458    5.0  12.000000  47.000000  0.0      8.0  13800000.0    3.0   \n",
       "3  23.861184    6.0   7.735300  19.879948  1.0     12.0   3302559.0    1.0   \n",
       "4  23.839112   10.0   7.636811  19.205621  1.0     15.0   3310465.0    1.0   \n",
       "\n",
       "   Totsp    Metrokm   ...     Brick_na  Distr_C  Distr_E  Distr_N  Distr_NE  \\\n",
       "0   47.0   1.333333   ...            0        0        0        0         0   \n",
       "1   30.0   1.333333   ...            0        0        0        0         0   \n",
       "2   82.0  12.500000   ...            0        0        0        0         0   \n",
       "3   35.0   1.333333   ...            0        0        0        0         0   \n",
       "4   34.0   1.333333   ...            0        0        0        0         0   \n",
       "\n",
       "   Distr_NW  Distr_S  Distr_SE  Distr_SW  Distr_W  \n",
       "0         1        0         0         0        0  \n",
       "1         1        0         0         0        0  \n",
       "2         1        0         0         0        0  \n",
       "3         1        0         0         0        0  \n",
       "4         1        0         0         0        0  \n",
       "\n",
       "[5 rows x 28 columns]"
      ]
     },
     "execution_count": 3,
     "metadata": {},
     "output_type": "execute_result"
    }
   ],
   "source": [
    "data = pd.read_csv('/Users/tatanakuzenko/cian_data_clear_for_modeling.csv')\n",
    "data.head()"
   ]
  },
  {
   "cell_type": "markdown",
   "metadata": {},
   "source": [
    "Готовим данные к линейной модели. Уберем n-ные столбцы после one-hot encoding, чтоб не образовывалась линейная зависимость"
   ]
  },
  {
   "cell_type": "code",
   "execution_count": 4,
   "metadata": {
    "collapsed": true
   },
   "outputs": [],
   "source": [
    "data.drop(['Bal_na', 'Distr_N', 'Brick_na'], axis = 1, inplace = True)"
   ]
  },
  {
   "cell_type": "markdown",
   "metadata": {},
   "source": [
    "Вариант с квадратами: зависимость цены от каких-то признаков может быть квадратичной. Не будем исследовать очень подробно, от каких именно, просто по всем не категориальным добавим колонку \"признак в квадрате\". По идее тем, которые зависят скорее линейно, модель сама поставит в коэфициент при квадрате что-то маленькое."
   ]
  },
  {
   "cell_type": "code",
   "execution_count": 5,
   "metadata": {
    "collapsed": false
   },
   "outputs": [],
   "source": [
    "data_sq = data.copy()\n",
    "\n",
    "squared_columns = ['Distance', 'Kitsp', 'Livsp', 'Totsp', 'Metrokm']\n",
    "squared_columns_new = ['Distance_sq', 'Kitsp_sq', 'Livsp_sq', 'Totsp_sq', 'Metrokm_sq']\n",
    "\n",
    "for i in range(len(squared_columns)):\n",
    "    data_sq[squared_columns_new[i]] = [x**2 for x in data_sq[squared_columns[i]]]"
   ]
  },
  {
   "cell_type": "code",
   "execution_count": 6,
   "metadata": {
    "collapsed": false
   },
   "outputs": [
    {
     "data": {
      "text/html": [
       "<div>\n",
       "<table border=\"1\" class=\"dataframe\">\n",
       "  <thead>\n",
       "    <tr style=\"text-align: right;\">\n",
       "      <th></th>\n",
       "      <th>Distance</th>\n",
       "      <th>Floor</th>\n",
       "      <th>Kitsp</th>\n",
       "      <th>Livsp</th>\n",
       "      <th>New</th>\n",
       "      <th>Nfloors</th>\n",
       "      <th>Price</th>\n",
       "      <th>Rooms</th>\n",
       "      <th>Totsp</th>\n",
       "      <th>Metrokm</th>\n",
       "      <th>...</th>\n",
       "      <th>Distr_NW</th>\n",
       "      <th>Distr_S</th>\n",
       "      <th>Distr_SE</th>\n",
       "      <th>Distr_SW</th>\n",
       "      <th>Distr_W</th>\n",
       "      <th>Distance_sq</th>\n",
       "      <th>Kitsp_sq</th>\n",
       "      <th>Livsp_sq</th>\n",
       "      <th>Totsp_sq</th>\n",
       "      <th>Metrokm_sq</th>\n",
       "    </tr>\n",
       "  </thead>\n",
       "  <tbody>\n",
       "    <tr>\n",
       "      <th>0</th>\n",
       "      <td>23.839112</td>\n",
       "      <td>2.0</td>\n",
       "      <td>8.917164</td>\n",
       "      <td>27.97188</td>\n",
       "      <td>1.0</td>\n",
       "      <td>15.0</td>\n",
       "      <td>3964118.0</td>\n",
       "      <td>2.0</td>\n",
       "      <td>47.0</td>\n",
       "      <td>1.333333</td>\n",
       "      <td>...</td>\n",
       "      <td>1</td>\n",
       "      <td>0</td>\n",
       "      <td>0</td>\n",
       "      <td>0</td>\n",
       "      <td>0</td>\n",
       "      <td>568.303268</td>\n",
       "      <td>79.515818</td>\n",
       "      <td>782.426047</td>\n",
       "      <td>2209.0</td>\n",
       "      <td>1.777778</td>\n",
       "    </tr>\n",
       "    <tr>\n",
       "      <th>1</th>\n",
       "      <td>23.839112</td>\n",
       "      <td>2.0</td>\n",
       "      <td>7.242856</td>\n",
       "      <td>16.50831</td>\n",
       "      <td>1.0</td>\n",
       "      <td>15.0</td>\n",
       "      <td>2801360.0</td>\n",
       "      <td>1.0</td>\n",
       "      <td>30.0</td>\n",
       "      <td>1.333333</td>\n",
       "      <td>...</td>\n",
       "      <td>1</td>\n",
       "      <td>0</td>\n",
       "      <td>0</td>\n",
       "      <td>0</td>\n",
       "      <td>0</td>\n",
       "      <td>568.303268</td>\n",
       "      <td>52.458962</td>\n",
       "      <td>272.524314</td>\n",
       "      <td>900.0</td>\n",
       "      <td>1.777778</td>\n",
       "    </tr>\n",
       "    <tr>\n",
       "      <th>2</th>\n",
       "      <td>21.923458</td>\n",
       "      <td>5.0</td>\n",
       "      <td>12.000000</td>\n",
       "      <td>47.00000</td>\n",
       "      <td>0.0</td>\n",
       "      <td>8.0</td>\n",
       "      <td>13800000.0</td>\n",
       "      <td>3.0</td>\n",
       "      <td>82.0</td>\n",
       "      <td>12.500000</td>\n",
       "      <td>...</td>\n",
       "      <td>1</td>\n",
       "      <td>0</td>\n",
       "      <td>0</td>\n",
       "      <td>0</td>\n",
       "      <td>0</td>\n",
       "      <td>480.638029</td>\n",
       "      <td>144.000000</td>\n",
       "      <td>2209.000000</td>\n",
       "      <td>6724.0</td>\n",
       "      <td>156.250000</td>\n",
       "    </tr>\n",
       "  </tbody>\n",
       "</table>\n",
       "<p>3 rows × 30 columns</p>\n",
       "</div>"
      ],
      "text/plain": [
       "    Distance  Floor      Kitsp     Livsp  New  Nfloors       Price  Rooms  \\\n",
       "0  23.839112    2.0   8.917164  27.97188  1.0     15.0   3964118.0    2.0   \n",
       "1  23.839112    2.0   7.242856  16.50831  1.0     15.0   2801360.0    1.0   \n",
       "2  21.923458    5.0  12.000000  47.00000  0.0      8.0  13800000.0    3.0   \n",
       "\n",
       "   Totsp    Metrokm     ...      Distr_NW  Distr_S  Distr_SE  Distr_SW  \\\n",
       "0   47.0   1.333333     ...             1        0         0         0   \n",
       "1   30.0   1.333333     ...             1        0         0         0   \n",
       "2   82.0  12.500000     ...             1        0         0         0   \n",
       "\n",
       "   Distr_W  Distance_sq    Kitsp_sq     Livsp_sq  Totsp_sq  Metrokm_sq  \n",
       "0        0   568.303268   79.515818   782.426047    2209.0    1.777778  \n",
       "1        0   568.303268   52.458962   272.524314     900.0    1.777778  \n",
       "2        0   480.638029  144.000000  2209.000000    6724.0  156.250000  \n",
       "\n",
       "[3 rows x 30 columns]"
      ]
     },
     "execution_count": 6,
     "metadata": {},
     "output_type": "execute_result"
    }
   ],
   "source": [
    "data_sq.head(3)"
   ]
  },
  {
   "cell_type": "markdown",
   "metadata": {},
   "source": [
    "Вариант поскейленных данных"
   ]
  },
  {
   "cell_type": "code",
   "execution_count": 7,
   "metadata": {
    "collapsed": true
   },
   "outputs": [],
   "source": [
    "from sklearn.preprocessing import scale\n",
    "\n",
    "to_scale = ['Distance', 'Floor', 'Kitsp', 'Livsp', 'Nfloors', 'Totsp', 'Metrokm']\n",
    "\n",
    "data_sc = data.copy()\n",
    "data_sc[to_scale] = scale(data_sc[to_scale], axis = 1)"
   ]
  },
  {
   "cell_type": "code",
   "execution_count": 8,
   "metadata": {
    "collapsed": false
   },
   "outputs": [
    {
     "data": {
      "text/html": [
       "<div>\n",
       "<table border=\"1\" class=\"dataframe\">\n",
       "  <thead>\n",
       "    <tr style=\"text-align: right;\">\n",
       "      <th></th>\n",
       "      <th>Distance</th>\n",
       "      <th>Floor</th>\n",
       "      <th>Kitsp</th>\n",
       "      <th>Livsp</th>\n",
       "      <th>New</th>\n",
       "      <th>Nfloors</th>\n",
       "      <th>Price</th>\n",
       "      <th>Rooms</th>\n",
       "      <th>Totsp</th>\n",
       "      <th>Metrokm</th>\n",
       "      <th>...</th>\n",
       "      <th>Brick_0.0</th>\n",
       "      <th>Brick_1.0</th>\n",
       "      <th>Distr_C</th>\n",
       "      <th>Distr_E</th>\n",
       "      <th>Distr_NE</th>\n",
       "      <th>Distr_NW</th>\n",
       "      <th>Distr_S</th>\n",
       "      <th>Distr_SE</th>\n",
       "      <th>Distr_SW</th>\n",
       "      <th>Distr_W</th>\n",
       "    </tr>\n",
       "  </thead>\n",
       "  <tbody>\n",
       "    <tr>\n",
       "      <th>0</th>\n",
       "      <td>0.385663</td>\n",
       "      <td>-1.058945</td>\n",
       "      <td>-0.601390</td>\n",
       "      <td>0.659036</td>\n",
       "      <td>1.0</td>\n",
       "      <td>-0.199024</td>\n",
       "      <td>3964118.0</td>\n",
       "      <td>2.0</td>\n",
       "      <td>1.917703</td>\n",
       "      <td>-1.103043</td>\n",
       "      <td>...</td>\n",
       "      <td>0</td>\n",
       "      <td>1</td>\n",
       "      <td>0</td>\n",
       "      <td>0</td>\n",
       "      <td>0</td>\n",
       "      <td>1</td>\n",
       "      <td>0</td>\n",
       "      <td>0</td>\n",
       "      <td>0</td>\n",
       "      <td>0</td>\n",
       "    </tr>\n",
       "    <tr>\n",
       "      <th>1</th>\n",
       "      <td>1.006703</td>\n",
       "      <td>-1.162404</td>\n",
       "      <td>-0.641672</td>\n",
       "      <td>0.278592</td>\n",
       "      <td>1.0</td>\n",
       "      <td>0.128784</td>\n",
       "      <td>2801360.0</td>\n",
       "      <td>1.0</td>\n",
       "      <td>1.618616</td>\n",
       "      <td>-1.228619</td>\n",
       "      <td>...</td>\n",
       "      <td>0</td>\n",
       "      <td>1</td>\n",
       "      <td>0</td>\n",
       "      <td>0</td>\n",
       "      <td>0</td>\n",
       "      <td>1</td>\n",
       "      <td>0</td>\n",
       "      <td>0</td>\n",
       "      <td>0</td>\n",
       "      <td>0</td>\n",
       "    </tr>\n",
       "    <tr>\n",
       "      <th>2</th>\n",
       "      <td>-0.192105</td>\n",
       "      <td>-0.843077</td>\n",
       "      <td>-0.573817</td>\n",
       "      <td>0.772482</td>\n",
       "      <td>0.0</td>\n",
       "      <td>-0.727680</td>\n",
       "      <td>13800000.0</td>\n",
       "      <td>3.0</td>\n",
       "      <td>2.118782</td>\n",
       "      <td>-0.554585</td>\n",
       "      <td>...</td>\n",
       "      <td>0</td>\n",
       "      <td>1</td>\n",
       "      <td>0</td>\n",
       "      <td>0</td>\n",
       "      <td>0</td>\n",
       "      <td>1</td>\n",
       "      <td>0</td>\n",
       "      <td>0</td>\n",
       "      <td>0</td>\n",
       "      <td>0</td>\n",
       "    </tr>\n",
       "  </tbody>\n",
       "</table>\n",
       "<p>3 rows × 25 columns</p>\n",
       "</div>"
      ],
      "text/plain": [
       "   Distance     Floor     Kitsp     Livsp  New   Nfloors       Price  Rooms  \\\n",
       "0  0.385663 -1.058945 -0.601390  0.659036  1.0 -0.199024   3964118.0    2.0   \n",
       "1  1.006703 -1.162404 -0.641672  0.278592  1.0  0.128784   2801360.0    1.0   \n",
       "2 -0.192105 -0.843077 -0.573817  0.772482  0.0 -0.727680  13800000.0    3.0   \n",
       "\n",
       "      Totsp   Metrokm   ...     Brick_0.0  Brick_1.0  Distr_C  Distr_E  \\\n",
       "0  1.917703 -1.103043   ...             0          1        0        0   \n",
       "1  1.618616 -1.228619   ...             0          1        0        0   \n",
       "2  2.118782 -0.554585   ...             0          1        0        0   \n",
       "\n",
       "   Distr_NE  Distr_NW  Distr_S  Distr_SE  Distr_SW  Distr_W  \n",
       "0         0         1        0         0         0        0  \n",
       "1         0         1        0         0         0        0  \n",
       "2         0         1        0         0         0        0  \n",
       "\n",
       "[3 rows x 25 columns]"
      ]
     },
     "execution_count": 8,
     "metadata": {},
     "output_type": "execute_result"
    }
   ],
   "source": [
    "data_sc.head(3)"
   ]
  },
  {
   "cell_type": "markdown",
   "metadata": {},
   "source": [
    "В прошлом ноутбуке изучается рпспределение цен. Оно так себе - очень большая плотность в начале вариационного ряда и она быстро падает до очень маленьких значений. При таких данных имеет смысл прологарифмировать колонку и работать уже с логарифмом. Не забудем перед посчетом ошибки модели возвести экспоненту в получившуюся степень."
   ]
  },
  {
   "cell_type": "code",
   "execution_count": 9,
   "metadata": {
    "collapsed": false
   },
   "outputs": [],
   "source": [
    "data_log = data.copy()\n",
    "data_log['Price'] = np.log(data_log['Price'])"
   ]
  },
  {
   "cell_type": "code",
   "execution_count": 10,
   "metadata": {
    "collapsed": false
   },
   "outputs": [
    {
     "data": {
      "text/plain": [
       "0    15.192794\n",
       "1    14.845616\n",
       "2    16.440179\n",
       "3    15.010208\n",
       "4    15.012599\n",
       "Name: Price, dtype: float64"
      ]
     },
     "execution_count": 10,
     "metadata": {},
     "output_type": "execute_result"
    }
   ],
   "source": [
    "data_log['Price'].head()"
   ]
  },
  {
   "cell_type": "markdown",
   "metadata": {},
   "source": [
    "Комбинации вышеизложенных вариантов."
   ]
  },
  {
   "cell_type": "code",
   "execution_count": 11,
   "metadata": {
    "collapsed": false
   },
   "outputs": [],
   "source": [
    "data_sc_log = data.drop('Price', axis = 1)\n",
    "data_sc_log[to_scale] = scale(data_sc_log[to_scale], axis = 1)\n",
    "data_sc_log['Price'] = np.log(data['Price'])"
   ]
  },
  {
   "cell_type": "code",
   "execution_count": 12,
   "metadata": {
    "collapsed": false
   },
   "outputs": [
    {
     "data": {
      "text/html": [
       "<div>\n",
       "<table border=\"1\" class=\"dataframe\">\n",
       "  <thead>\n",
       "    <tr style=\"text-align: right;\">\n",
       "      <th></th>\n",
       "      <th>Distance</th>\n",
       "      <th>Floor</th>\n",
       "      <th>Kitsp</th>\n",
       "      <th>Livsp</th>\n",
       "      <th>New</th>\n",
       "      <th>Nfloors</th>\n",
       "      <th>Rooms</th>\n",
       "      <th>Totsp</th>\n",
       "      <th>Metrokm</th>\n",
       "      <th>Bal_0.0</th>\n",
       "      <th>...</th>\n",
       "      <th>Brick_1.0</th>\n",
       "      <th>Distr_C</th>\n",
       "      <th>Distr_E</th>\n",
       "      <th>Distr_NE</th>\n",
       "      <th>Distr_NW</th>\n",
       "      <th>Distr_S</th>\n",
       "      <th>Distr_SE</th>\n",
       "      <th>Distr_SW</th>\n",
       "      <th>Distr_W</th>\n",
       "      <th>Price</th>\n",
       "    </tr>\n",
       "  </thead>\n",
       "  <tbody>\n",
       "    <tr>\n",
       "      <th>0</th>\n",
       "      <td>0.385663</td>\n",
       "      <td>-1.058945</td>\n",
       "      <td>-0.601390</td>\n",
       "      <td>0.659036</td>\n",
       "      <td>1.0</td>\n",
       "      <td>-0.199024</td>\n",
       "      <td>2.0</td>\n",
       "      <td>1.917703</td>\n",
       "      <td>-1.103043</td>\n",
       "      <td>0</td>\n",
       "      <td>...</td>\n",
       "      <td>1</td>\n",
       "      <td>0</td>\n",
       "      <td>0</td>\n",
       "      <td>0</td>\n",
       "      <td>1</td>\n",
       "      <td>0</td>\n",
       "      <td>0</td>\n",
       "      <td>0</td>\n",
       "      <td>0</td>\n",
       "      <td>15.192794</td>\n",
       "    </tr>\n",
       "    <tr>\n",
       "      <th>1</th>\n",
       "      <td>1.006703</td>\n",
       "      <td>-1.162404</td>\n",
       "      <td>-0.641672</td>\n",
       "      <td>0.278592</td>\n",
       "      <td>1.0</td>\n",
       "      <td>0.128784</td>\n",
       "      <td>1.0</td>\n",
       "      <td>1.618616</td>\n",
       "      <td>-1.228619</td>\n",
       "      <td>0</td>\n",
       "      <td>...</td>\n",
       "      <td>1</td>\n",
       "      <td>0</td>\n",
       "      <td>0</td>\n",
       "      <td>0</td>\n",
       "      <td>1</td>\n",
       "      <td>0</td>\n",
       "      <td>0</td>\n",
       "      <td>0</td>\n",
       "      <td>0</td>\n",
       "      <td>14.845616</td>\n",
       "    </tr>\n",
       "    <tr>\n",
       "      <th>2</th>\n",
       "      <td>-0.192105</td>\n",
       "      <td>-0.843077</td>\n",
       "      <td>-0.573817</td>\n",
       "      <td>0.772482</td>\n",
       "      <td>0.0</td>\n",
       "      <td>-0.727680</td>\n",
       "      <td>3.0</td>\n",
       "      <td>2.118782</td>\n",
       "      <td>-0.554585</td>\n",
       "      <td>0</td>\n",
       "      <td>...</td>\n",
       "      <td>1</td>\n",
       "      <td>0</td>\n",
       "      <td>0</td>\n",
       "      <td>0</td>\n",
       "      <td>1</td>\n",
       "      <td>0</td>\n",
       "      <td>0</td>\n",
       "      <td>0</td>\n",
       "      <td>0</td>\n",
       "      <td>16.440179</td>\n",
       "    </tr>\n",
       "  </tbody>\n",
       "</table>\n",
       "<p>3 rows × 25 columns</p>\n",
       "</div>"
      ],
      "text/plain": [
       "   Distance     Floor     Kitsp     Livsp  New   Nfloors  Rooms     Totsp  \\\n",
       "0  0.385663 -1.058945 -0.601390  0.659036  1.0 -0.199024    2.0  1.917703   \n",
       "1  1.006703 -1.162404 -0.641672  0.278592  1.0  0.128784    1.0  1.618616   \n",
       "2 -0.192105 -0.843077 -0.573817  0.772482  0.0 -0.727680    3.0  2.118782   \n",
       "\n",
       "    Metrokm  Bal_0.0    ...      Brick_1.0  Distr_C  Distr_E  Distr_NE  \\\n",
       "0 -1.103043        0    ...              1        0        0         0   \n",
       "1 -1.228619        0    ...              1        0        0         0   \n",
       "2 -0.554585        0    ...              1        0        0         0   \n",
       "\n",
       "   Distr_NW  Distr_S  Distr_SE  Distr_SW  Distr_W      Price  \n",
       "0         1        0         0         0        0  15.192794  \n",
       "1         1        0         0         0        0  14.845616  \n",
       "2         1        0         0         0        0  16.440179  \n",
       "\n",
       "[3 rows x 25 columns]"
      ]
     },
     "execution_count": 12,
     "metadata": {},
     "output_type": "execute_result"
    }
   ],
   "source": [
    "data_sc_log.head(3)"
   ]
  },
  {
   "cell_type": "code",
   "execution_count": 13,
   "metadata": {
    "collapsed": false
   },
   "outputs": [],
   "source": [
    "data_sq_log = data.drop('Price', axis = 1)\n",
    "\n",
    "for i in range(len(squared_columns)):\n",
    "    data_sq_log[squared_columns_new[i]] = [x**2 for x in data_sq_log[squared_columns[i]]]\n",
    "    \n",
    "data_sq_log['Price'] = np.log(data['Price'])"
   ]
  },
  {
   "cell_type": "code",
   "execution_count": 14,
   "metadata": {
    "collapsed": false
   },
   "outputs": [
    {
     "data": {
      "text/html": [
       "<div>\n",
       "<table border=\"1\" class=\"dataframe\">\n",
       "  <thead>\n",
       "    <tr style=\"text-align: right;\">\n",
       "      <th></th>\n",
       "      <th>Distance</th>\n",
       "      <th>Floor</th>\n",
       "      <th>Kitsp</th>\n",
       "      <th>Livsp</th>\n",
       "      <th>New</th>\n",
       "      <th>Nfloors</th>\n",
       "      <th>Rooms</th>\n",
       "      <th>Totsp</th>\n",
       "      <th>Metrokm</th>\n",
       "      <th>Bal_0.0</th>\n",
       "      <th>...</th>\n",
       "      <th>Distr_S</th>\n",
       "      <th>Distr_SE</th>\n",
       "      <th>Distr_SW</th>\n",
       "      <th>Distr_W</th>\n",
       "      <th>Distance_sq</th>\n",
       "      <th>Kitsp_sq</th>\n",
       "      <th>Livsp_sq</th>\n",
       "      <th>Totsp_sq</th>\n",
       "      <th>Metrokm_sq</th>\n",
       "      <th>Price</th>\n",
       "    </tr>\n",
       "  </thead>\n",
       "  <tbody>\n",
       "    <tr>\n",
       "      <th>0</th>\n",
       "      <td>23.839112</td>\n",
       "      <td>2.0</td>\n",
       "      <td>8.917164</td>\n",
       "      <td>27.97188</td>\n",
       "      <td>1.0</td>\n",
       "      <td>15.0</td>\n",
       "      <td>2.0</td>\n",
       "      <td>47.0</td>\n",
       "      <td>1.333333</td>\n",
       "      <td>0</td>\n",
       "      <td>...</td>\n",
       "      <td>0</td>\n",
       "      <td>0</td>\n",
       "      <td>0</td>\n",
       "      <td>0</td>\n",
       "      <td>568.303268</td>\n",
       "      <td>79.515818</td>\n",
       "      <td>782.426047</td>\n",
       "      <td>2209.0</td>\n",
       "      <td>1.777778</td>\n",
       "      <td>15.192794</td>\n",
       "    </tr>\n",
       "    <tr>\n",
       "      <th>1</th>\n",
       "      <td>23.839112</td>\n",
       "      <td>2.0</td>\n",
       "      <td>7.242856</td>\n",
       "      <td>16.50831</td>\n",
       "      <td>1.0</td>\n",
       "      <td>15.0</td>\n",
       "      <td>1.0</td>\n",
       "      <td>30.0</td>\n",
       "      <td>1.333333</td>\n",
       "      <td>0</td>\n",
       "      <td>...</td>\n",
       "      <td>0</td>\n",
       "      <td>0</td>\n",
       "      <td>0</td>\n",
       "      <td>0</td>\n",
       "      <td>568.303268</td>\n",
       "      <td>52.458962</td>\n",
       "      <td>272.524314</td>\n",
       "      <td>900.0</td>\n",
       "      <td>1.777778</td>\n",
       "      <td>14.845616</td>\n",
       "    </tr>\n",
       "    <tr>\n",
       "      <th>2</th>\n",
       "      <td>21.923458</td>\n",
       "      <td>5.0</td>\n",
       "      <td>12.000000</td>\n",
       "      <td>47.00000</td>\n",
       "      <td>0.0</td>\n",
       "      <td>8.0</td>\n",
       "      <td>3.0</td>\n",
       "      <td>82.0</td>\n",
       "      <td>12.500000</td>\n",
       "      <td>0</td>\n",
       "      <td>...</td>\n",
       "      <td>0</td>\n",
       "      <td>0</td>\n",
       "      <td>0</td>\n",
       "      <td>0</td>\n",
       "      <td>480.638029</td>\n",
       "      <td>144.000000</td>\n",
       "      <td>2209.000000</td>\n",
       "      <td>6724.0</td>\n",
       "      <td>156.250000</td>\n",
       "      <td>16.440179</td>\n",
       "    </tr>\n",
       "  </tbody>\n",
       "</table>\n",
       "<p>3 rows × 30 columns</p>\n",
       "</div>"
      ],
      "text/plain": [
       "    Distance  Floor      Kitsp     Livsp  New  Nfloors  Rooms  Totsp  \\\n",
       "0  23.839112    2.0   8.917164  27.97188  1.0     15.0    2.0   47.0   \n",
       "1  23.839112    2.0   7.242856  16.50831  1.0     15.0    1.0   30.0   \n",
       "2  21.923458    5.0  12.000000  47.00000  0.0      8.0    3.0   82.0   \n",
       "\n",
       "     Metrokm  Bal_0.0    ...      Distr_S  Distr_SE  Distr_SW  Distr_W  \\\n",
       "0   1.333333        0    ...            0         0         0        0   \n",
       "1   1.333333        0    ...            0         0         0        0   \n",
       "2  12.500000        0    ...            0         0         0        0   \n",
       "\n",
       "   Distance_sq    Kitsp_sq     Livsp_sq  Totsp_sq  Metrokm_sq      Price  \n",
       "0   568.303268   79.515818   782.426047    2209.0    1.777778  15.192794  \n",
       "1   568.303268   52.458962   272.524314     900.0    1.777778  14.845616  \n",
       "2   480.638029  144.000000  2209.000000    6724.0  156.250000  16.440179  \n",
       "\n",
       "[3 rows x 30 columns]"
      ]
     },
     "execution_count": 14,
     "metadata": {},
     "output_type": "execute_result"
    }
   ],
   "source": [
    "data_sq_log.head(3)"
   ]
  },
  {
   "cell_type": "code",
   "execution_count": 15,
   "metadata": {
    "collapsed": true
   },
   "outputs": [],
   "source": [
    "data_sc_sq_log = data.drop('Price', axis = 1)\n",
    "\n",
    "data_sc_sq_log[to_scale] = scale(data_sc_sq_log[to_scale], axis = 1)\n",
    "\n",
    "for i in range(len(squared_columns)):\n",
    "    data_sc_sq_log[squared_columns_new[i]] = [x**2 for x in data_sc_sq_log[squared_columns[i]]]\n",
    "    \n",
    "data_sc_sq_log['Price'] = np.log(data['Price'])"
   ]
  },
  {
   "cell_type": "code",
   "execution_count": 16,
   "metadata": {
    "collapsed": false
   },
   "outputs": [
    {
     "data": {
      "text/html": [
       "<div>\n",
       "<table border=\"1\" class=\"dataframe\">\n",
       "  <thead>\n",
       "    <tr style=\"text-align: right;\">\n",
       "      <th></th>\n",
       "      <th>Distance</th>\n",
       "      <th>Floor</th>\n",
       "      <th>Kitsp</th>\n",
       "      <th>Livsp</th>\n",
       "      <th>New</th>\n",
       "      <th>Nfloors</th>\n",
       "      <th>Rooms</th>\n",
       "      <th>Totsp</th>\n",
       "      <th>Metrokm</th>\n",
       "      <th>Bal_0.0</th>\n",
       "      <th>...</th>\n",
       "      <th>Distr_S</th>\n",
       "      <th>Distr_SE</th>\n",
       "      <th>Distr_SW</th>\n",
       "      <th>Distr_W</th>\n",
       "      <th>Distance_sq</th>\n",
       "      <th>Kitsp_sq</th>\n",
       "      <th>Livsp_sq</th>\n",
       "      <th>Totsp_sq</th>\n",
       "      <th>Metrokm_sq</th>\n",
       "      <th>Price</th>\n",
       "    </tr>\n",
       "  </thead>\n",
       "  <tbody>\n",
       "    <tr>\n",
       "      <th>0</th>\n",
       "      <td>0.385663</td>\n",
       "      <td>-1.058945</td>\n",
       "      <td>-0.601390</td>\n",
       "      <td>0.659036</td>\n",
       "      <td>1.0</td>\n",
       "      <td>-0.199024</td>\n",
       "      <td>2.0</td>\n",
       "      <td>1.917703</td>\n",
       "      <td>-1.103043</td>\n",
       "      <td>0</td>\n",
       "      <td>...</td>\n",
       "      <td>0</td>\n",
       "      <td>0</td>\n",
       "      <td>0</td>\n",
       "      <td>0</td>\n",
       "      <td>0.148736</td>\n",
       "      <td>0.361670</td>\n",
       "      <td>0.434329</td>\n",
       "      <td>3.677586</td>\n",
       "      <td>1.216705</td>\n",
       "      <td>15.192794</td>\n",
       "    </tr>\n",
       "    <tr>\n",
       "      <th>1</th>\n",
       "      <td>1.006703</td>\n",
       "      <td>-1.162404</td>\n",
       "      <td>-0.641672</td>\n",
       "      <td>0.278592</td>\n",
       "      <td>1.0</td>\n",
       "      <td>0.128784</td>\n",
       "      <td>1.0</td>\n",
       "      <td>1.618616</td>\n",
       "      <td>-1.228619</td>\n",
       "      <td>0</td>\n",
       "      <td>...</td>\n",
       "      <td>0</td>\n",
       "      <td>0</td>\n",
       "      <td>0</td>\n",
       "      <td>0</td>\n",
       "      <td>1.013452</td>\n",
       "      <td>0.411744</td>\n",
       "      <td>0.077614</td>\n",
       "      <td>2.619918</td>\n",
       "      <td>1.509505</td>\n",
       "      <td>14.845616</td>\n",
       "    </tr>\n",
       "    <tr>\n",
       "      <th>2</th>\n",
       "      <td>-0.192105</td>\n",
       "      <td>-0.843077</td>\n",
       "      <td>-0.573817</td>\n",
       "      <td>0.772482</td>\n",
       "      <td>0.0</td>\n",
       "      <td>-0.727680</td>\n",
       "      <td>3.0</td>\n",
       "      <td>2.118782</td>\n",
       "      <td>-0.554585</td>\n",
       "      <td>0</td>\n",
       "      <td>...</td>\n",
       "      <td>0</td>\n",
       "      <td>0</td>\n",
       "      <td>0</td>\n",
       "      <td>0</td>\n",
       "      <td>0.036904</td>\n",
       "      <td>0.329267</td>\n",
       "      <td>0.596729</td>\n",
       "      <td>4.489238</td>\n",
       "      <td>0.307564</td>\n",
       "      <td>16.440179</td>\n",
       "    </tr>\n",
       "  </tbody>\n",
       "</table>\n",
       "<p>3 rows × 30 columns</p>\n",
       "</div>"
      ],
      "text/plain": [
       "   Distance     Floor     Kitsp     Livsp  New   Nfloors  Rooms     Totsp  \\\n",
       "0  0.385663 -1.058945 -0.601390  0.659036  1.0 -0.199024    2.0  1.917703   \n",
       "1  1.006703 -1.162404 -0.641672  0.278592  1.0  0.128784    1.0  1.618616   \n",
       "2 -0.192105 -0.843077 -0.573817  0.772482  0.0 -0.727680    3.0  2.118782   \n",
       "\n",
       "    Metrokm  Bal_0.0    ...      Distr_S  Distr_SE  Distr_SW  Distr_W  \\\n",
       "0 -1.103043        0    ...            0         0         0        0   \n",
       "1 -1.228619        0    ...            0         0         0        0   \n",
       "2 -0.554585        0    ...            0         0         0        0   \n",
       "\n",
       "   Distance_sq  Kitsp_sq  Livsp_sq  Totsp_sq  Metrokm_sq      Price  \n",
       "0     0.148736  0.361670  0.434329  3.677586    1.216705  15.192794  \n",
       "1     1.013452  0.411744  0.077614  2.619918    1.509505  14.845616  \n",
       "2     0.036904  0.329267  0.596729  4.489238    0.307564  16.440179  \n",
       "\n",
       "[3 rows x 30 columns]"
      ]
     },
     "execution_count": 16,
     "metadata": {},
     "output_type": "execute_result"
    }
   ],
   "source": [
    "data_sc_sq_log.head(3)"
   ]
  },
  {
   "cell_type": "code",
   "execution_count": 17,
   "metadata": {
    "collapsed": false
   },
   "outputs": [],
   "source": [
    "data_sq_sc_log = data.drop('Price', axis = 1)\n",
    "\n",
    "for i in range(len(squared_columns)):\n",
    "    data_sq_sc_log[squared_columns_new[i]] = [x**2 for x in data_sq_sc_log[squared_columns[i]]]\n",
    "\n",
    "data_sq_sc_log[to_scale] = scale(data_sq_sc_log[to_scale], axis = 1)\n",
    "data_sq_sc_log['Price'] = np.log(data['Price'])"
   ]
  },
  {
   "cell_type": "code",
   "execution_count": 18,
   "metadata": {
    "collapsed": false
   },
   "outputs": [
    {
     "data": {
      "text/html": [
       "<div>\n",
       "<table border=\"1\" class=\"dataframe\">\n",
       "  <thead>\n",
       "    <tr style=\"text-align: right;\">\n",
       "      <th></th>\n",
       "      <th>Distance</th>\n",
       "      <th>Floor</th>\n",
       "      <th>Kitsp</th>\n",
       "      <th>Livsp</th>\n",
       "      <th>New</th>\n",
       "      <th>Nfloors</th>\n",
       "      <th>Price</th>\n",
       "      <th>Rooms</th>\n",
       "      <th>Totsp</th>\n",
       "      <th>Metrokm</th>\n",
       "      <th>...</th>\n",
       "      <th>Brick_0.0</th>\n",
       "      <th>Brick_1.0</th>\n",
       "      <th>Distr_C</th>\n",
       "      <th>Distr_E</th>\n",
       "      <th>Distr_NE</th>\n",
       "      <th>Distr_NW</th>\n",
       "      <th>Distr_S</th>\n",
       "      <th>Distr_SE</th>\n",
       "      <th>Distr_SW</th>\n",
       "      <th>Distr_W</th>\n",
       "    </tr>\n",
       "  </thead>\n",
       "  <tbody>\n",
       "    <tr>\n",
       "      <th>0</th>\n",
       "      <td>23.839112</td>\n",
       "      <td>2.0</td>\n",
       "      <td>8.917164</td>\n",
       "      <td>27.97188</td>\n",
       "      <td>1.0</td>\n",
       "      <td>15.0</td>\n",
       "      <td>3964118.0</td>\n",
       "      <td>2.0</td>\n",
       "      <td>47.0</td>\n",
       "      <td>1.333333</td>\n",
       "      <td>...</td>\n",
       "      <td>0</td>\n",
       "      <td>1</td>\n",
       "      <td>0</td>\n",
       "      <td>0</td>\n",
       "      <td>0</td>\n",
       "      <td>1</td>\n",
       "      <td>0</td>\n",
       "      <td>0</td>\n",
       "      <td>0</td>\n",
       "      <td>0</td>\n",
       "    </tr>\n",
       "    <tr>\n",
       "      <th>1</th>\n",
       "      <td>23.839112</td>\n",
       "      <td>2.0</td>\n",
       "      <td>7.242856</td>\n",
       "      <td>16.50831</td>\n",
       "      <td>1.0</td>\n",
       "      <td>15.0</td>\n",
       "      <td>2801360.0</td>\n",
       "      <td>1.0</td>\n",
       "      <td>30.0</td>\n",
       "      <td>1.333333</td>\n",
       "      <td>...</td>\n",
       "      <td>0</td>\n",
       "      <td>1</td>\n",
       "      <td>0</td>\n",
       "      <td>0</td>\n",
       "      <td>0</td>\n",
       "      <td>1</td>\n",
       "      <td>0</td>\n",
       "      <td>0</td>\n",
       "      <td>0</td>\n",
       "      <td>0</td>\n",
       "    </tr>\n",
       "    <tr>\n",
       "      <th>2</th>\n",
       "      <td>21.923458</td>\n",
       "      <td>5.0</td>\n",
       "      <td>12.000000</td>\n",
       "      <td>47.00000</td>\n",
       "      <td>0.0</td>\n",
       "      <td>8.0</td>\n",
       "      <td>13800000.0</td>\n",
       "      <td>3.0</td>\n",
       "      <td>82.0</td>\n",
       "      <td>12.500000</td>\n",
       "      <td>...</td>\n",
       "      <td>0</td>\n",
       "      <td>1</td>\n",
       "      <td>0</td>\n",
       "      <td>0</td>\n",
       "      <td>0</td>\n",
       "      <td>1</td>\n",
       "      <td>0</td>\n",
       "      <td>0</td>\n",
       "      <td>0</td>\n",
       "      <td>0</td>\n",
       "    </tr>\n",
       "  </tbody>\n",
       "</table>\n",
       "<p>3 rows × 25 columns</p>\n",
       "</div>"
      ],
      "text/plain": [
       "    Distance  Floor      Kitsp     Livsp  New  Nfloors       Price  Rooms  \\\n",
       "0  23.839112    2.0   8.917164  27.97188  1.0     15.0   3964118.0    2.0   \n",
       "1  23.839112    2.0   7.242856  16.50831  1.0     15.0   2801360.0    1.0   \n",
       "2  21.923458    5.0  12.000000  47.00000  0.0      8.0  13800000.0    3.0   \n",
       "\n",
       "   Totsp    Metrokm   ...     Brick_0.0  Brick_1.0  Distr_C  Distr_E  \\\n",
       "0   47.0   1.333333   ...             0          1        0        0   \n",
       "1   30.0   1.333333   ...             0          1        0        0   \n",
       "2   82.0  12.500000   ...             0          1        0        0   \n",
       "\n",
       "   Distr_NE  Distr_NW  Distr_S  Distr_SE  Distr_SW  Distr_W  \n",
       "0         0         1        0         0         0        0  \n",
       "1         0         1        0         0         0        0  \n",
       "2         0         1        0         0         0        0  \n",
       "\n",
       "[3 rows x 25 columns]"
      ]
     },
     "execution_count": 18,
     "metadata": {},
     "output_type": "execute_result"
    }
   ],
   "source": [
    "data.head(3)"
   ]
  },
  {
   "cell_type": "code",
   "execution_count": 19,
   "metadata": {
    "collapsed": true
   },
   "outputs": [],
   "source": [
    "datasets = [data, data_sq, data_sc, data_log, data_sc_log, data_sq_log, data_sc_sq_log, data_sq_sc_log]"
   ]
  },
  {
   "cell_type": "markdown",
   "metadata": {},
   "source": [
    "Для каждого варианта составляем модель, обучаем ее и сопоставляем ошибки."
   ]
  },
  {
   "cell_type": "code",
   "execution_count": 20,
   "metadata": {
    "collapsed": false
   },
   "outputs": [
    {
     "name": "stdout",
     "output_type": "stream",
     "text": [
      "Model: simple      RMSE:  12153541.876059694    MAE:  6432388.82077\n",
      "Model: squared      RMSE:  10005147.516445344    MAE:  5545852.72922\n",
      "Model: scaled      RMSE:  16583055.279802177    MAE:  10251017.0877\n",
      "Model: log      RMSE:  23298500.59790149    MAE:  5640816.46911\n",
      "Model: sc_log      RMSE:  16495286.562965117    MAE:  7098882.64004\n",
      "Model: sq_log      RMSE:  9190883.424682342    MAE:  3599644.04623\n",
      "Model: sc_sq_log      RMSE:  14839293.760010557    MAE:  6263896.23081\n",
      "Model: sq_sc_log      RMSE:  46915869.24756888    MAE:  7341229.36555\n"
     ]
    }
   ],
   "source": [
    "from sklearn.model_selection import train_test_split\n",
    "from sklearn.linear_model import LinearRegression\n",
    "from sklearn.metrics import mean_squared_error\n",
    "from sklearn.metrics import mean_absolute_error\n",
    "from math import sqrt\n",
    "\n",
    "simple = LinearRegression()\n",
    "squared = LinearRegression()\n",
    "scaled = LinearRegression()\n",
    "log = LinearRegression()\n",
    "sc_log = LinearRegression()\n",
    "sq_log = LinearRegression()\n",
    "sc_sq_log = LinearRegression()\n",
    "sq_sc_log = LinearRegression()\n",
    "\n",
    "\n",
    "models = [\n",
    "    \n",
    "    ('simple', simple),\n",
    "    ('squared', squared),\n",
    "    ('scaled', scaled),\n",
    "    ('log', log), \n",
    "    ('sc_log', sc_log),\n",
    "    ('sq_log', sq_log),\n",
    "    ('sc_sq_log', sc_sq_log),\n",
    "    ('sq_sc_log', sq_sc_log)\n",
    "    \n",
    "]\n",
    "\n",
    "for i in range(len(models)):\n",
    "    \n",
    "        tmp = datasets[i]\n",
    "        train = tmp.drop('Price', axis = 1)\n",
    "        target = tmp['Price']\n",
    "        target = pd.DataFrame(target)\n",
    "    \n",
    "        Xtr, Xval, Ytr, Yval = train_test_split(train, target, test_size=0.2)\n",
    "        \n",
    "        modelname, model = models[i]\n",
    "        model.fit(Xtr, Ytr);\n",
    "        \n",
    "        predictions = model.predict(Xval)\n",
    "        \n",
    "        \n",
    "        if (modelname.find('log', 0, len(modelname)) < 0):\n",
    "            rmse = sqrt(mean_squared_error(Yval, predictions))\n",
    "            mae = mean_absolute_error(Yval, predictions)\n",
    "            print('Model:', modelname, '     RMSE: ', rmse, '   MAE: ', mae)\n",
    "        else:\n",
    "            rmse = sqrt(mean_squared_error(np.exp(Yval), np.exp(predictions)))\n",
    "            mae = mean_absolute_error(np.exp(Yval), np.exp(predictions))\n",
    "            print('Model:', modelname, '     RMSE: ', rmse, '   MAE: ', mae)"
   ]
  },
  {
   "cell_type": "markdown",
   "metadata": {},
   "source": [
    "При нескольких прогонках мною было подмечено, что ошибки моделей хоть и меняются, но относительно друг друга модели в среднем особо не передвигатся: лидируют simple, squared и sq_log.\n",
    "Теперь попробуем регуляризовать."
   ]
  },
  {
   "cell_type": "code",
   "execution_count": 21,
   "metadata": {
    "collapsed": false,
    "scrolled": true
   },
   "outputs": [
    {
     "name": "stdout",
     "output_type": "stream",
     "text": [
      "Model: simple      RMSE:  12112815.346096275    MAE:  6576481.83687    Coef:  []\n",
      "Model: squared      RMSE:  12822193.821817843    MAE:  6373621.17794    Coef:  []\n"
     ]
    },
    {
     "name": "stderr",
     "output_type": "stream",
     "text": [
      "/Users/tatanakuzenko/anaconda/lib/python3.4/site-packages/sklearn/linear_model/coordinate_descent.py:484: ConvergenceWarning: Objective did not converge. You might want to increase the number of iterations. Fitting data with very small alpha may cause precision problems.\n",
      "  ConvergenceWarning)\n"
     ]
    },
    {
     "name": "stdout",
     "output_type": "stream",
     "text": [
      "Model: scaled      RMSE:  16527024.07998499    MAE:  10811417.728    Coef:  []\n",
      "Model: log      RMSE:  14325659.480923688    MAE:  5142047.41252   Coef:  ['Bal_0.0', 'Bal_1.0', 'Bal_2.0', 'Bal_3.0', 'Bal_4.0', 'Brick_0.0', 'Distr_E', 'Distr_NE', 'Distr_NW', 'Distr_S', 'Distr_SW']\n",
      "Model: sc_log      RMSE:  15640085.517072018    MAE:  7164665.16943   Coef:  ['Floor', 'Livsp', 'Nfloors', 'Totsp', 'Metrokm', 'Bal_0.0', 'Bal_2.0', 'Bal_3.0', 'Bal_4.0', 'Distr_NW', 'Distr_S']\n",
      "Model: sq_log      RMSE:  9342244.167797212    MAE:  3945027.1405   Coef:  ['Livsp', 'Bal_0.0', 'Bal_1.0', 'Bal_2.0', 'Bal_3.0', 'Bal_4.0', 'Brick_0.0', 'Brick_1.0', 'Distr_E', 'Distr_NE', 'Distr_NW', 'Distr_S', 'Distr_SW', 'Metrokm_sq']\n",
      "Model: sc_sq_log      RMSE:  16676413.316755474    MAE:  7117636.66374   Coef:  ['Floor', 'Kitsp', 'Livsp', 'Nfloors', 'Totsp', 'Metrokm', 'Bal_0.0', 'Bal_2.0', 'Bal_3.0', 'Bal_4.0', 'Distr_NW', 'Distr_S', 'Livsp_sq', 'Metrokm_sq']\n",
      "Model: sq_sc_log      RMSE:  18679842.94271672    MAE:  6385599.39503   Coef:  ['Floor', 'Kitsp', 'Livsp', 'Totsp', 'Metrokm', 'Bal_0.0', 'Bal_2.0', 'Bal_3.0', 'Bal_4.0', 'Distr_NE', 'Distr_NW', 'Distr_S']\n"
     ]
    }
   ],
   "source": [
    "from sklearn.linear_model import Lasso\n",
    "\n",
    "simple = Lasso(alpha = 0.01, max_iter = 100000, tol = 0.01)\n",
    "squared = Lasso(alpha = 0.01, max_iter = 100000, tol = 0.01)\n",
    "scaled = Lasso(alpha = 0.01, max_iter = 100000, tol = 0.01)\n",
    "log = Lasso(alpha = 0.01, max_iter = 100000, tol = 0.01)\n",
    "sc_log = Lasso(alpha = 0.01, max_iter = 100000, tol = 0.01)\n",
    "sq_log = Lasso(alpha = 0.01, max_iter = 100000, tol = 0.01)\n",
    "sc_sq_log = Lasso(alpha = 0.01, max_iter = 100000, tol = 0.01)\n",
    "sq_sc_log = Lasso(alpha = 0.01, max_iter = 100000, tol = 0.01)\n",
    "\n",
    "\n",
    "models = [\n",
    "    ('simple', simple),\n",
    "    ('squared', squared),\n",
    "    ('scaled', scaled),\n",
    "    ('log', log), \n",
    "    ('sc_log', sc_log),\n",
    "    ('sq_log', sq_log),\n",
    "    ('sc_sq_log', sc_sq_log),\n",
    "    ('sq_sc_log', sq_sc_log)\n",
    "]\n",
    "\n",
    "\n",
    "for i in range(len(models)):\n",
    "    \n",
    "        tmp = datasets[i]\n",
    "        train = tmp.drop('Price', axis = 1)\n",
    "        target = tmp['Price']\n",
    "        target = pd.DataFrame(target)\n",
    "    \n",
    "        Xtr, Xval, Ytr, Yval = train_test_split(train, target, test_size=0.2)\n",
    "        \n",
    "        modelname, model = models[i]\n",
    "        model.fit(Xtr, Ytr);\n",
    "        \n",
    "        predictions = model.predict(Xval)\n",
    "\n",
    "        coef = model.coef_\n",
    "        zeros = []\n",
    "        for j in range(len(Xtr.columns)):\n",
    "            if coef[j] == 0:\n",
    "                zeros.append(Xtr.columns[j])\n",
    "                \n",
    "        if (modelname.find('log', 0, len(modelname)) < 0):\n",
    "            rmse = sqrt(mean_squared_error(Yval, predictions))\n",
    "            mae = mean_absolute_error(Yval, predictions)\n",
    "            print('Model:', modelname, '     RMSE: ', rmse, '   MAE: ', mae, '   Coef: ', zeros)\n",
    "        else:\n",
    "            rmse = sqrt(mean_squared_error(np.exp(Yval), np.exp(predictions)))\n",
    "            mae = mean_absolute_error(np.exp(Yval), np.exp(predictions))\n",
    "            print('Model:', modelname, '     RMSE: ', rmse, '   MAE: ', mae, '  Coef: ', zeros)"
   ]
  },
  {
   "cell_type": "markdown",
   "metadata": {},
   "source": [
    "В среднем RMSE была чуть меньше. Лучше остальных те же модели (вот это уже стабильно просматривалось): sq_log, simple, squared."
   ]
  },
  {
   "cell_type": "code",
   "execution_count": 23,
   "metadata": {
    "collapsed": false
   },
   "outputs": [
    {
     "name": "stdout",
     "output_type": "stream",
     "text": [
      "Model: simple      RMSE:  11620155.486068701    MAE:  6232417.53036\n",
      "Model: squared      RMSE:  13112323.630662125    MAE:  6536731.9125\n",
      "Model: scaled      RMSE:  17447091.09981659    MAE:  10668545.24\n",
      "Model: log      RMSE:  11399624.010805445    MAE:  4354873.71372\n",
      "Model: sc_log      RMSE:  15785314.062685568    MAE:  6931541.71058\n",
      "Model: sq_log      RMSE:  9651623.515418168    MAE:  4003851.62368\n",
      "Model: sc_sq_log      RMSE:  17442599.171527397    MAE:  7370020.75842\n",
      "Model: sq_sc_log      RMSE:  23755273.177662212    MAE:  6596393.50778\n"
     ]
    }
   ],
   "source": [
    "from sklearn.linear_model import Ridge\n",
    "\n",
    "simple = Ridge(alpha = .01, max_iter = 10000)\n",
    "squared = Ridge(alpha = .01, max_iter = 10000)\n",
    "scaled = Ridge(alpha = .01, max_iter = 10000)\n",
    "log = Ridge(alpha = .01, max_iter = 10000)\n",
    "sc_log = Ridge(alpha = .01, max_iter = 10000)\n",
    "sq_log = Ridge(alpha = .01, max_iter = 10000)\n",
    "sc_sq_log = Ridge(alpha = .01, max_iter = 10000)\n",
    "sq_sc_log = Ridge(alpha = .01, max_iter = 10000)\n",
    "\n",
    "models = [\n",
    "    ('simple', simple),\n",
    "    ('squared', squared),\n",
    "    ('scaled', scaled),\n",
    "    ('log', log), \n",
    "    ('sc_log', sc_log),\n",
    "    ('sq_log', sq_log),\n",
    "    ('sc_sq_log', sc_sq_log),\n",
    "    ('sq_sc_log', sq_sc_log)\n",
    "]\n",
    "\n",
    "\n",
    "for i in range(len(models)):\n",
    "    \n",
    "        tmp = datasets[i]\n",
    "        train = tmp.drop('Price', axis = 1)\n",
    "        target = tmp['Price']\n",
    "        target = pd.DataFrame(target)\n",
    "    \n",
    "        Xtr, Xval, Ytr, Yval = train_test_split(train, target, test_size=0.2)\n",
    "        \n",
    "        modelname, model = models[i]\n",
    "        model.fit(Xtr, Ytr);\n",
    "        \n",
    "        predictions = model.predict(Xval)\n",
    "       \n",
    "        if (modelname.find('log', 0, len(modelname)) < 0):\n",
    "            rmse = sqrt(mean_squared_error(Yval, predictions))\n",
    "            mae = mean_absolute_error(Yval, predictions)\n",
    "            print('Model:', modelname, '     RMSE: ', rmse, '   MAE: ', mae)\n",
    "        else:\n",
    "            rmse = sqrt(mean_squared_error(np.exp(Yval), np.exp(predictions)))\n",
    "            mae = mean_absolute_error(np.exp(Yval), np.exp(predictions))\n",
    "            print('Model:', modelname, '     RMSE: ', rmse, '   MAE: ', mae)"
   ]
  },
  {
   "cell_type": "markdown",
   "metadata": {
    "collapsed": true
   },
   "source": [
    "Если усреднять запуски, то результаты лучше у модели с регуляризацией, причем у Ridge. По итогам всех эспериментов наилучшей выглядит модель для sq_log данных."
   ]
  },
  {
   "cell_type": "markdown",
   "metadata": {},
   "source": [
    "### Теперь запустим эти 8 вариантов для RandomForest"
   ]
  },
  {
   "cell_type": "markdown",
   "metadata": {},
   "source": [
    "Подгрузим заново датасет, чтоб можно было использовать удаленные для линейных моделей колонки. Деревьям они как раз не помешают."
   ]
  },
  {
   "cell_type": "code",
   "execution_count": 24,
   "metadata": {
    "collapsed": false
   },
   "outputs": [],
   "source": [
    "data_rf = pd.read_csv('/Users/tatanakuzenko/cian_data_clear_for_modeling.csv')"
   ]
  },
  {
   "cell_type": "code",
   "execution_count": 25,
   "metadata": {
    "collapsed": true
   },
   "outputs": [],
   "source": [
    "data_sq_rf = data_rf\n",
    "\n",
    "for i in range(len(squared_columns_new)):\n",
    "        data_sq_rf[squared_columns_new[i]] = 0\n",
    "\n",
    "for i in range(len(squared_columns)):\n",
    "    data_sq_rf[squared_columns_new[i]] = [x**2 for x in data_sq_rf[squared_columns[i]]]"
   ]
  },
  {
   "cell_type": "code",
   "execution_count": 26,
   "metadata": {
    "collapsed": true
   },
   "outputs": [],
   "source": [
    "data_sc_rf = data.copy()\n",
    "data_sc_rf[to_scale] = scale(data_sc_rf[to_scale], axis = 1)"
   ]
  },
  {
   "cell_type": "code",
   "execution_count": 27,
   "metadata": {
    "collapsed": true
   },
   "outputs": [],
   "source": [
    "data_log_rf = data.copy()\n",
    "data_log_rf['Price'] = np.log(data_log_rf['Price'])"
   ]
  },
  {
   "cell_type": "code",
   "execution_count": 28,
   "metadata": {
    "collapsed": true
   },
   "outputs": [],
   "source": [
    "data_sq_log_rf = data.drop('Price', axis = 1)\n",
    "\n",
    "for i in range(len(squared_columns)):\n",
    "    data_sq_log_rf[squared_columns_new[i]] = [x**2 for x in data_sq_log_rf[squared_columns[i]]]\n",
    "    \n",
    "data_sq_log_rf['Price'] = np.log(data['Price'])"
   ]
  },
  {
   "cell_type": "code",
   "execution_count": 29,
   "metadata": {
    "collapsed": true
   },
   "outputs": [],
   "source": [
    "data_sc_log_rf = data.drop('Price', axis = 1)\n",
    "data_sc_log_rf[to_scale] = scale(data_sc_log_rf[to_scale], axis = 1)\n",
    "data_sc_log_rf['Price'] = np.log(data['Price'])"
   ]
  },
  {
   "cell_type": "code",
   "execution_count": 30,
   "metadata": {
    "collapsed": true
   },
   "outputs": [],
   "source": [
    "data_sc_sq_log_rf = data.drop('Price', axis = 1)\n",
    "\n",
    "data_sc_sq_log_rf[to_scale] = scale(data_sc_sq_log_rf[to_scale], axis = 1)\n",
    "\n",
    "for i in range(len(squared_columns)):\n",
    "    data_sc_sq_log_rf[squared_columns_new[i]] = [x**2 for x in data_sc_sq_log_rf[squared_columns[i]]]\n",
    "    \n",
    "data_sc_sq_log_rf['Price'] = np.log(data['Price'])"
   ]
  },
  {
   "cell_type": "code",
   "execution_count": 31,
   "metadata": {
    "collapsed": true
   },
   "outputs": [],
   "source": [
    "data_sq_sc_log_rf = data.drop('Price', axis = 1)\n",
    "\n",
    "for i in range(len(squared_columns)):\n",
    "    data_sq_sc_log_rf[squared_columns_new[i]] = [x**2 for x in data_sq_sc_log_rf[squared_columns[i]]]\n",
    "\n",
    "data_sq_sc_log_rf[to_scale] = scale(data_sq_sc_log_rf[to_scale], axis = 1)\n",
    "data_sq_sc_log_rf['Price'] = np.log(data['Price'])"
   ]
  },
  {
   "cell_type": "code",
   "execution_count": 32,
   "metadata": {
    "collapsed": true
   },
   "outputs": [],
   "source": [
    "datasets_rf = [data_rf, data_sq_rf, data_sc_rf, data_log_rf, data_sc_log_rf, data_sq_log_rf, data_sc_sq_log_rf, data_sq_sc_log_rf]"
   ]
  },
  {
   "cell_type": "code",
   "execution_count": 33,
   "metadata": {
    "collapsed": false
   },
   "outputs": [
    {
     "name": "stdout",
     "output_type": "stream",
     "text": [
      "Model: simple      RMSE:  8809104.37649344    MAE:  3517872.66469\n",
      "Model: squared      RMSE:  9268194.408569915    MAE:  3729234.14066\n",
      "Model: scaled      RMSE:  13527026.442443172    MAE:  5515567.09749\n",
      "Model: log      RMSE:  9334100.086945478    MAE:  3297519.69191\n",
      "Model: sc_log      RMSE:  12030550.307060244    MAE:  4624094.91416\n",
      "Model: sq_log      RMSE:  9724020.573222538    MAE:  3516194.14099\n",
      "Model: sc_sq_log      RMSE:  13742529.60333157    MAE:  5235121.73636\n",
      "Model: sq_sc_log      RMSE:  10413170.775034726    MAE:  3780036.39832\n"
     ]
    }
   ],
   "source": [
    "from sklearn.ensemble import RandomForestRegressor\n",
    "\n",
    "simple = RandomForestRegressor(n_estimators=60, criterion='mse', max_depth=15)\n",
    "squared = RandomForestRegressor(n_estimators=60, criterion='mse', max_depth=15)\n",
    "scaled = RandomForestRegressor(n_estimators=60, criterion='mse', max_depth=15)\n",
    "log = RandomForestRegressor(n_estimators=60, criterion='mse', max_depth=15)\n",
    "sc_log = RandomForestRegressor(n_estimators=60, criterion='mse', max_depth=15)\n",
    "sq_log = RandomForestRegressor(n_estimators=60, criterion='mse', max_depth=15)\n",
    "sc_sq_log = RandomForestRegressor(n_estimators=60, criterion='mse', max_depth=15)\n",
    "sq_sc_log = RandomForestRegressor(n_estimators=60, criterion='mse', max_depth=15)\n",
    "\n",
    "models = [\n",
    "    ('simple', simple),\n",
    "    ('squared', squared),\n",
    "    ('scaled', scaled),\n",
    "    ('log', log), \n",
    "    ('sc_log', sc_log),\n",
    "    ('sq_log', sq_log),\n",
    "    ('sc_sq_log', sc_sq_log),\n",
    "    ('sq_sc_log', sq_sc_log)\n",
    "]\n",
    "\n",
    "\n",
    "for i in range(len(models)):\n",
    "    \n",
    "        tmp = datasets[i]\n",
    "        train = tmp.drop('Price', axis = 1)\n",
    "        target = tmp['Price']\n",
    "    \n",
    "        Xtr, Xval, Ytr, Yval = train_test_split(train, target, test_size=0.2)\n",
    "        \n",
    "        modelname, model = models[i]\n",
    "        model.fit(Xtr, Ytr);\n",
    "        \n",
    "        predictions = model.predict(Xval)\n",
    "       \n",
    "        if (modelname.find('log', 0, len(modelname)) < 0):\n",
    "            rmse = sqrt(mean_squared_error(Yval, predictions))\n",
    "            mae = mean_absolute_error(Yval, predictions)\n",
    "            print('Model:', modelname, '     RMSE: ', rmse, '   MAE: ', mae)\n",
    "        else:\n",
    "            rmse = sqrt(mean_squared_error(np.exp(Yval), np.exp(predictions)))\n",
    "            mae = mean_absolute_error(np.exp(Yval), np.exp(predictions))\n",
    "            print('Model:', modelname, '     RMSE: ', rmse, '   MAE: ', mae)"
   ]
  },
  {
   "cell_type": "markdown",
   "metadata": {},
   "source": [
    "На лесах сопоставимо хорошие результаты дают все, кроме scaled, sc_log, sc_sq_log"
   ]
  },
  {
   "cell_type": "markdown",
   "metadata": {},
   "source": [
    "В среднем суммарная ошибка составляет 105e05 на 1000 объектов для предсказаний линейных моделей и 97e05 для случайных лесов."
   ]
  }
 ],
 "metadata": {
  "kernelspec": {
   "display_name": "Python 3",
   "language": "python",
   "name": "python3"
  },
  "language_info": {
   "codemirror_mode": {
    "name": "ipython",
    "version": 3
   },
   "file_extension": ".py",
   "mimetype": "text/x-python",
   "name": "python",
   "nbconvert_exporter": "python",
   "pygments_lexer": "ipython3",
   "version": "3.4.4"
  }
 },
 "nbformat": 4,
 "nbformat_minor": 0
}
